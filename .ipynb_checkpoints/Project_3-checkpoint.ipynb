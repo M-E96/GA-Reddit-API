{
 "cells": [
  {
   "cell_type": "markdown",
   "id": "6d669a72-1079-4d32-b43f-43a80eca5c9f",
   "metadata": {},
   "source": [
    "# Project 3 - Reddit NLP"
   ]
  },
  {
   "cell_type": "markdown",
   "id": "fa6b12b0-7060-4292-917c-9a77bc6a77d0",
   "metadata": {},
   "source": [
    "We are going to explore trends in language in two subreddits, if there are any overlaps, due to the similarity of the nature of the subreddits, and unique identifiers within each. Finally, explore the sentiment overall and see which one has a more positive/more negative membership. "
   ]
  },
  {
   "cell_type": "markdown",
   "id": "e0f7b693-5af0-4746-9d36-8f711dc510f9",
   "metadata": {},
   "source": [
    "Having installed praw, we use it to access the reddit API to scrape posts of chosen subreddits"
   ]
  },
  {
   "cell_type": "code",
   "execution_count": 5,
   "id": "4beb3d49-a02a-454a-9bb8-e10330e1f9aa",
   "metadata": {
    "tags": []
   },
   "outputs": [],
   "source": [
    "import praw\n",
    "from dotenv import load_dotenv\n",
    "import os"
   ]
  },
  {
   "cell_type": "markdown",
   "id": "f552fcaf-b09d-4d72-838d-4f9bf8ede348",
   "metadata": {},
   "source": [
    "We hide our sensitive information by loading up the environment file via os"
   ]
  },
  {
   "cell_type": "code",
   "execution_count": 7,
   "id": "445451a4-d175-476c-a04d-d3de136d5786",
   "metadata": {
    "tags": []
   },
   "outputs": [
    {
     "data": {
      "text/plain": [
       "True"
      ]
     },
     "execution_count": 7,
     "metadata": {},
     "output_type": "execute_result"
    }
   ],
   "source": [
    "load_dotenv()"
   ]
  },
  {
   "cell_type": "markdown",
   "id": "b08d23e7-f311-43bc-a590-f669d99d6826",
   "metadata": {
    "tags": []
   },
   "source": [
    "Seeing that it has worked"
   ]
  },
  {
   "cell_type": "code",
   "execution_count": 9,
   "id": "f505f201-bf7c-47dd-94ee-23fc490483fd",
   "metadata": {
    "tags": []
   },
   "outputs": [],
   "source": [
    "client = os.getenv(\"reddit_id\")\n",
    "secret = os.getenv(\"reddit_secret\")\n",
    "reddit_password = os.getenv(\"reddit_password\")"
   ]
  },
  {
   "cell_type": "code",
   "execution_count": 10,
   "id": "104e89fd-3a9b-4f16-a301-3eae931d95f4",
   "metadata": {
    "tags": []
   },
   "outputs": [],
   "source": [
    "reddit = praw.Reddit(\n",
    "    client_id= client,\n",
    "    client_secret= secret,\n",
    "    user_agent=\"MikeyChungus\",\n",
    "    username=\"MikeChung96\",\n",
    "    password= reddit_password\n",
    ")"
   ]
  },
  {
   "cell_type": "markdown",
   "id": "44621fef-1389-4b09-a036-138c88398e16",
   "metadata": {},
   "source": [
    "Loading up the reddit praw to scrape the subreddit"
   ]
  },
  {
   "cell_type": "code",
   "execution_count": 12,
   "id": "7455cfa4-b001-4f24-8ce2-4f3cfbf44ca5",
   "metadata": {
    "tags": []
   },
   "outputs": [],
   "source": [
    "subreddit = reddit.subreddit(\"Sourdough\")\n",
    "posts = subreddit.top(limit= 1000)"
   ]
  },
  {
   "cell_type": "code",
   "execution_count": 13,
   "id": "61d9214c-ca2b-4a0a-ada2-aa9f1f65fd61",
   "metadata": {},
   "outputs": [
    {
     "data": {
      "text/html": [
       "<div>\n",
       "<style scoped>\n",
       "    .dataframe tbody tr th:only-of-type {\n",
       "        vertical-align: middle;\n",
       "    }\n",
       "\n",
       "    .dataframe tbody tr th {\n",
       "        vertical-align: top;\n",
       "    }\n",
       "\n",
       "    .dataframe thead th {\n",
       "        text-align: right;\n",
       "    }\n",
       "</style>\n",
       "<table border=\"1\" class=\"dataframe\">\n",
       "  <thead>\n",
       "    <tr style=\"text-align: right;\">\n",
       "      <th></th>\n",
       "      <th>created_utc</th>\n",
       "      <th>title</th>\n",
       "      <th>self_text</th>\n",
       "      <th>subreddit</th>\n",
       "    </tr>\n",
       "  </thead>\n",
       "  <tbody>\n",
       "    <tr>\n",
       "      <th>0</th>\n",
       "      <td>1.589802e+09</td>\n",
       "      <td>Here’s another video of me shaping sourdough. ...</td>\n",
       "      <td></td>\n",
       "      <td>Sourdough</td>\n",
       "    </tr>\n",
       "    <tr>\n",
       "      <th>1</th>\n",
       "      <td>1.710556e+09</td>\n",
       "      <td>Heed my warning ⚠️</td>\n",
       "      <td>When proofing dough in your oven, make sure ev...</td>\n",
       "      <td>Sourdough</td>\n",
       "    </tr>\n",
       "    <tr>\n",
       "      <th>2</th>\n",
       "      <td>1.679841e+09</td>\n",
       "      <td>Why did my overnight proof fail?</td>\n",
       "      <td></td>\n",
       "      <td>Sourdough</td>\n",
       "    </tr>\n",
       "    <tr>\n",
       "      <th>3</th>\n",
       "      <td>1.589694e+09</td>\n",
       "      <td>My dad decided to make a Coronavirus themed so...</td>\n",
       "      <td></td>\n",
       "      <td>Sourdough</td>\n",
       "    </tr>\n",
       "    <tr>\n",
       "      <th>4</th>\n",
       "      <td>1.584161e+09</td>\n",
       "      <td>by request: a timelapse of me scoring my sunfl...</td>\n",
       "      <td></td>\n",
       "      <td>Sourdough</td>\n",
       "    </tr>\n",
       "  </tbody>\n",
       "</table>\n",
       "</div>"
      ],
      "text/plain": [
       "    created_utc                                              title  \\\n",
       "0  1.589802e+09  Here’s another video of me shaping sourdough. ...   \n",
       "1  1.710556e+09                                 Heed my warning ⚠️   \n",
       "2  1.679841e+09                   Why did my overnight proof fail?   \n",
       "3  1.589694e+09  My dad decided to make a Coronavirus themed so...   \n",
       "4  1.584161e+09  by request: a timelapse of me scoring my sunfl...   \n",
       "\n",
       "                                           self_text  subreddit  \n",
       "0                                                     Sourdough  \n",
       "1  When proofing dough in your oven, make sure ev...  Sourdough  \n",
       "2                                                     Sourdough  \n",
       "3                                                     Sourdough  \n",
       "4                                                     Sourdough  "
      ]
     },
     "execution_count": 13,
     "metadata": {},
     "output_type": "execute_result"
    }
   ],
   "source": [
    "import pandas as pd\n",
    "\n",
    "data = []\n",
    "for post in posts:\n",
    "    data.append([post.created_utc, post.title, post.selftext, post.subreddit])\n",
    "\n",
    "sourdough1 = pd.DataFrame(data, columns = [\"created_utc\", \"title\", \"self_text\", \"subreddit\"])\n",
    "sourdough1.head()"
   ]
  },
  {
   "cell_type": "markdown",
   "id": "4a79fa1a-bf2b-4086-aec8-abfef23c4d3d",
   "metadata": {},
   "source": [
    "Took this method from the given created_utc tip in the tutorial notebook, this way we avoid overlapping pulls from the API."
   ]
  },
  {
   "cell_type": "code",
   "execution_count": 15,
   "id": "d8608dc6-9a20-46db-b50a-56db67220cd3",
   "metadata": {},
   "outputs": [
    {
     "data": {
      "text/html": [
       "<div>\n",
       "<style scoped>\n",
       "    .dataframe tbody tr th:only-of-type {\n",
       "        vertical-align: middle;\n",
       "    }\n",
       "\n",
       "    .dataframe tbody tr th {\n",
       "        vertical-align: top;\n",
       "    }\n",
       "\n",
       "    .dataframe thead th {\n",
       "        text-align: right;\n",
       "    }\n",
       "</style>\n",
       "<table border=\"1\" class=\"dataframe\">\n",
       "  <thead>\n",
       "    <tr style=\"text-align: right;\">\n",
       "      <th></th>\n",
       "      <th>created_utc</th>\n",
       "      <th>title</th>\n",
       "      <th>self_text</th>\n",
       "      <th>subreddit</th>\n",
       "    </tr>\n",
       "  </thead>\n",
       "  <tbody>\n",
       "    <tr>\n",
       "      <th>0</th>\n",
       "      <td>1.720547e+09</td>\n",
       "      <td>Frustrated baker</td>\n",
       "      <td>I’ve been baking sourdough using the following...</td>\n",
       "      <td>Sourdough</td>\n",
       "    </tr>\n",
       "    <tr>\n",
       "      <th>1</th>\n",
       "      <td>1.720543e+09</td>\n",
       "      <td>First ever loaf!</td>\n",
       "      <td>Ah! So excited! She came out looking greasy’ c...</td>\n",
       "      <td>Sourdough</td>\n",
       "    </tr>\n",
       "    <tr>\n",
       "      <th>2</th>\n",
       "      <td>1.720543e+09</td>\n",
       "      <td>I think this is my best loaf to date</td>\n",
       "      <td>midnight bakers trying to avoid the heat wave ...</td>\n",
       "      <td>Sourdough</td>\n",
       "    </tr>\n",
       "    <tr>\n",
       "      <th>3</th>\n",
       "      <td>1.720543e+09</td>\n",
       "      <td>Feeling a bit downhearted about my starter…</td>\n",
       "      <td>First thing photo taken at 2:15am the night be...</td>\n",
       "      <td>Sourdough</td>\n",
       "    </tr>\n",
       "    <tr>\n",
       "      <th>4</th>\n",
       "      <td>1.720542e+09</td>\n",
       "      <td>First time getting ears and they’re a bit burn...</td>\n",
       "      <td>700 g bread flour\\n200 g ww flour \\n100 g of r...</td>\n",
       "      <td>Sourdough</td>\n",
       "    </tr>\n",
       "  </tbody>\n",
       "</table>\n",
       "</div>"
      ],
      "text/plain": [
       "    created_utc                                              title  \\\n",
       "0  1.720547e+09                                   Frustrated baker   \n",
       "1  1.720543e+09                                   First ever loaf!   \n",
       "2  1.720543e+09               I think this is my best loaf to date   \n",
       "3  1.720543e+09        Feeling a bit downhearted about my starter…   \n",
       "4  1.720542e+09  First time getting ears and they’re a bit burn...   \n",
       "\n",
       "                                           self_text  subreddit  \n",
       "0  I’ve been baking sourdough using the following...  Sourdough  \n",
       "1  Ah! So excited! She came out looking greasy’ c...  Sourdough  \n",
       "2  midnight bakers trying to avoid the heat wave ...  Sourdough  \n",
       "3  First thing photo taken at 2:15am the night be...  Sourdough  \n",
       "4  700 g bread flour\\n200 g ww flour \\n100 g of r...  Sourdough  "
      ]
     },
     "execution_count": 15,
     "metadata": {},
     "output_type": "execute_result"
    }
   ],
   "source": [
    "subreddit = reddit.subreddit(\"Sourdough\")\n",
    "posts = subreddit.new(limit= 1000)\n",
    "\n",
    "data = []\n",
    "for post in posts:\n",
    "    data.append([post.created_utc, post.title, post.selftext, post.subreddit])\n",
    "\n",
    "sourdough2 = pd.DataFrame(data, columns = [\"created_utc\", \"title\", \"self_text\", \"subreddit\"])\n",
    "sourdough2.head()"
   ]
  },
  {
   "cell_type": "code",
   "execution_count": 16,
   "id": "3417ef0f-2ae4-454e-b245-fb9145dc216c",
   "metadata": {
    "tags": []
   },
   "outputs": [
    {
     "data": {
      "text/html": [
       "<div>\n",
       "<style scoped>\n",
       "    .dataframe tbody tr th:only-of-type {\n",
       "        vertical-align: middle;\n",
       "    }\n",
       "\n",
       "    .dataframe tbody tr th {\n",
       "        vertical-align: top;\n",
       "    }\n",
       "\n",
       "    .dataframe thead th {\n",
       "        text-align: right;\n",
       "    }\n",
       "</style>\n",
       "<table border=\"1\" class=\"dataframe\">\n",
       "  <thead>\n",
       "    <tr style=\"text-align: right;\">\n",
       "      <th></th>\n",
       "      <th>created_utc</th>\n",
       "      <th>title</th>\n",
       "      <th>self_text</th>\n",
       "      <th>subreddit</th>\n",
       "    </tr>\n",
       "  </thead>\n",
       "  <tbody>\n",
       "    <tr>\n",
       "      <th>0</th>\n",
       "      <td>1.720548e+09</td>\n",
       "      <td>It doesn't get much better than this - peppero...</td>\n",
       "      <td></td>\n",
       "      <td>Pizza</td>\n",
       "    </tr>\n",
       "    <tr>\n",
       "      <th>1</th>\n",
       "      <td>1.720546e+09</td>\n",
       "      <td>Dough not meeting windowpane test</td>\n",
       "      <td>I’ve been using the modernist pizza artisanal ...</td>\n",
       "      <td>Pizza</td>\n",
       "    </tr>\n",
       "    <tr>\n",
       "      <th>2</th>\n",
       "      <td>1.720544e+09</td>\n",
       "      <td>pepperoni pan pizza</td>\n",
       "      <td></td>\n",
       "      <td>Pizza</td>\n",
       "    </tr>\n",
       "    <tr>\n",
       "      <th>3</th>\n",
       "      <td>1.720544e+09</td>\n",
       "      <td>Sourdough Margherita</td>\n",
       "      <td></td>\n",
       "      <td>Pizza</td>\n",
       "    </tr>\n",
       "    <tr>\n",
       "      <th>4</th>\n",
       "      <td>1.720543e+09</td>\n",
       "      <td>Seafood Pizza ⛵🦐🍤</td>\n",
       "      <td></td>\n",
       "      <td>Pizza</td>\n",
       "    </tr>\n",
       "  </tbody>\n",
       "</table>\n",
       "</div>"
      ],
      "text/plain": [
       "    created_utc                                              title  \\\n",
       "0  1.720548e+09  It doesn't get much better than this - peppero...   \n",
       "1  1.720546e+09                  Dough not meeting windowpane test   \n",
       "2  1.720544e+09                                pepperoni pan pizza   \n",
       "3  1.720544e+09                               Sourdough Margherita   \n",
       "4  1.720543e+09                                  Seafood Pizza ⛵🦐🍤   \n",
       "\n",
       "                                           self_text subreddit  \n",
       "0                                                        Pizza  \n",
       "1  I’ve been using the modernist pizza artisanal ...     Pizza  \n",
       "2                                                        Pizza  \n",
       "3                                                        Pizza  \n",
       "4                                                        Pizza  "
      ]
     },
     "execution_count": 16,
     "metadata": {},
     "output_type": "execute_result"
    }
   ],
   "source": [
    "subreddit = reddit.subreddit(\"Pizza\")\n",
    "posts = subreddit.new(limit= 1000)\n",
    "\n",
    "data = []\n",
    "for post in posts:\n",
    "    data.append([post.created_utc, post.title, post.selftext, post.subreddit])\n",
    "\n",
    "# Turn into a dataframe\n",
    "pizza1 = pd.DataFrame(data, columns = [\"created_utc\", \"title\", \"self_text\", \"subreddit\"])\n",
    "pizza1.head()"
   ]
  },
  {
   "cell_type": "code",
   "execution_count": 17,
   "id": "1c0277c3-05b3-498c-a786-1061f8885b9d",
   "metadata": {
    "tags": []
   },
   "outputs": [
    {
     "data": {
      "text/html": [
       "<div>\n",
       "<style scoped>\n",
       "    .dataframe tbody tr th:only-of-type {\n",
       "        vertical-align: middle;\n",
       "    }\n",
       "\n",
       "    .dataframe tbody tr th {\n",
       "        vertical-align: top;\n",
       "    }\n",
       "\n",
       "    .dataframe thead th {\n",
       "        text-align: right;\n",
       "    }\n",
       "</style>\n",
       "<table border=\"1\" class=\"dataframe\">\n",
       "  <thead>\n",
       "    <tr style=\"text-align: right;\">\n",
       "      <th></th>\n",
       "      <th>created_utc</th>\n",
       "      <th>title</th>\n",
       "      <th>self_text</th>\n",
       "      <th>subreddit</th>\n",
       "    </tr>\n",
       "  </thead>\n",
       "  <tbody>\n",
       "    <tr>\n",
       "      <th>0</th>\n",
       "      <td>1.700358e+09</td>\n",
       "      <td>Ham, pineapple, caramelized onions, and crumbl...</td>\n",
       "      <td></td>\n",
       "      <td>Pizza</td>\n",
       "    </tr>\n",
       "    <tr>\n",
       "      <th>1</th>\n",
       "      <td>1.719879e+09</td>\n",
       "      <td>So I make Pizza in Osaka, Japan. I will be vis...</td>\n",
       "      <td>-New York...Slice\\n-New Haven Style\\n-Detroit ...</td>\n",
       "      <td>Pizza</td>\n",
       "    </tr>\n",
       "    <tr>\n",
       "      <th>2</th>\n",
       "      <td>1.717683e+09</td>\n",
       "      <td>Local place sells a “jumbo slice” that’s a qua...</td>\n",
       "      <td>DC Pizza and Grill, only $6. Feels like two hu...</td>\n",
       "      <td>Pizza</td>\n",
       "    </tr>\n",
       "    <tr>\n",
       "      <th>3</th>\n",
       "      <td>1.712687e+09</td>\n",
       "      <td>This airport pizza might be the worst pizza I ...</td>\n",
       "      <td>I am sorry you all have to see this, but I cou...</td>\n",
       "      <td>Pizza</td>\n",
       "    </tr>\n",
       "    <tr>\n",
       "      <th>4</th>\n",
       "      <td>1.718998e+09</td>\n",
       "      <td>Tonight is my first pop up sale</td>\n",
       "      <td>The first pie of the night just went out. Off ...</td>\n",
       "      <td>Pizza</td>\n",
       "    </tr>\n",
       "  </tbody>\n",
       "</table>\n",
       "</div>"
      ],
      "text/plain": [
       "    created_utc                                              title  \\\n",
       "0  1.700358e+09  Ham, pineapple, caramelized onions, and crumbl...   \n",
       "1  1.719879e+09  So I make Pizza in Osaka, Japan. I will be vis...   \n",
       "2  1.717683e+09  Local place sells a “jumbo slice” that’s a qua...   \n",
       "3  1.712687e+09  This airport pizza might be the worst pizza I ...   \n",
       "4  1.718998e+09                    Tonight is my first pop up sale   \n",
       "\n",
       "                                           self_text subreddit  \n",
       "0                                                        Pizza  \n",
       "1  -New York...Slice\\n-New Haven Style\\n-Detroit ...     Pizza  \n",
       "2  DC Pizza and Grill, only $6. Feels like two hu...     Pizza  \n",
       "3  I am sorry you all have to see this, but I cou...     Pizza  \n",
       "4  The first pie of the night just went out. Off ...     Pizza  "
      ]
     },
     "execution_count": 17,
     "metadata": {},
     "output_type": "execute_result"
    }
   ],
   "source": [
    "subreddit = reddit.subreddit(\"Pizza\")\n",
    "posts = subreddit.top(limit= 1000)\n",
    "\n",
    "data = []\n",
    "for post in posts:\n",
    "    data.append([post.created_utc, post.title, post.selftext, post.subreddit])\n",
    "\n",
    "# Turn into a dataframe\n",
    "pizza2 = pd.DataFrame(data, columns = [\"created_utc\", \"title\", \"self_text\", \"subreddit\"])\n",
    "pizza2.head()"
   ]
  },
  {
   "cell_type": "code",
   "execution_count": 18,
   "id": "3b3fb28c-684b-4375-ad8c-529954d7ff00",
   "metadata": {
    "tags": []
   },
   "outputs": [
    {
     "data": {
      "text/plain": [
       "(999, 4)"
      ]
     },
     "execution_count": 18,
     "metadata": {},
     "output_type": "execute_result"
    }
   ],
   "source": [
    "sourdough1.shape"
   ]
  },
  {
   "cell_type": "code",
   "execution_count": 19,
   "id": "af85d726-2b64-4be5-bce2-f932bf988878",
   "metadata": {
    "tags": []
   },
   "outputs": [
    {
     "data": {
      "text/plain": [
       "(1000, 4)"
      ]
     },
     "execution_count": 19,
     "metadata": {},
     "output_type": "execute_result"
    }
   ],
   "source": [
    "sourdough2.shape"
   ]
  },
  {
   "cell_type": "code",
   "execution_count": 20,
   "id": "fac7ebcd-f04f-41d9-bbfe-44746e2236de",
   "metadata": {
    "tags": []
   },
   "outputs": [
    {
     "data": {
      "text/plain": [
       "(991, 4)"
      ]
     },
     "execution_count": 20,
     "metadata": {},
     "output_type": "execute_result"
    }
   ],
   "source": [
    "pizza1.shape"
   ]
  },
  {
   "cell_type": "code",
   "execution_count": 21,
   "id": "ef31155e-4338-49f0-a359-70856421df34",
   "metadata": {
    "tags": []
   },
   "outputs": [
    {
     "data": {
      "text/plain": [
       "(1000, 4)"
      ]
     },
     "execution_count": 21,
     "metadata": {},
     "output_type": "execute_result"
    }
   ],
   "source": [
    "pizza2.shape"
   ]
  },
  {
   "cell_type": "code",
   "execution_count": 22,
   "id": "e69079d9-2111-4944-bc2b-ea1874559898",
   "metadata": {
    "tags": []
   },
   "outputs": [
    {
     "data": {
      "text/plain": [
       "(1967, 4)"
      ]
     },
     "execution_count": 22,
     "metadata": {},
     "output_type": "execute_result"
    }
   ],
   "source": [
    "sourdough = pd.concat([sourdough1, sourdough2])\n",
    "sourdough.drop_duplicates(subset= \"title\", keep= \"first\", inplace= True)\n",
    "sourdough.shape"
   ]
  },
  {
   "cell_type": "code",
   "execution_count": 23,
   "id": "c5b4d7a5-dd06-475e-82ca-e490c278f8ef",
   "metadata": {
    "tags": []
   },
   "outputs": [
    {
     "data": {
      "text/html": [
       "<div>\n",
       "<style scoped>\n",
       "    .dataframe tbody tr th:only-of-type {\n",
       "        vertical-align: middle;\n",
       "    }\n",
       "\n",
       "    .dataframe tbody tr th {\n",
       "        vertical-align: top;\n",
       "    }\n",
       "\n",
       "    .dataframe thead th {\n",
       "        text-align: right;\n",
       "    }\n",
       "</style>\n",
       "<table border=\"1\" class=\"dataframe\">\n",
       "  <thead>\n",
       "    <tr style=\"text-align: right;\">\n",
       "      <th></th>\n",
       "      <th>created_utc</th>\n",
       "      <th>title</th>\n",
       "      <th>self_text</th>\n",
       "      <th>subreddit</th>\n",
       "    </tr>\n",
       "  </thead>\n",
       "  <tbody>\n",
       "    <tr>\n",
       "      <th>0</th>\n",
       "      <td>1.589802e+09</td>\n",
       "      <td>Here’s another video of me shaping sourdough. ...</td>\n",
       "      <td></td>\n",
       "      <td>Sourdough</td>\n",
       "    </tr>\n",
       "    <tr>\n",
       "      <th>1</th>\n",
       "      <td>1.710556e+09</td>\n",
       "      <td>Heed my warning ⚠️</td>\n",
       "      <td>When proofing dough in your oven, make sure ev...</td>\n",
       "      <td>Sourdough</td>\n",
       "    </tr>\n",
       "    <tr>\n",
       "      <th>2</th>\n",
       "      <td>1.679841e+09</td>\n",
       "      <td>Why did my overnight proof fail?</td>\n",
       "      <td></td>\n",
       "      <td>Sourdough</td>\n",
       "    </tr>\n",
       "    <tr>\n",
       "      <th>3</th>\n",
       "      <td>1.589694e+09</td>\n",
       "      <td>My dad decided to make a Coronavirus themed so...</td>\n",
       "      <td></td>\n",
       "      <td>Sourdough</td>\n",
       "    </tr>\n",
       "    <tr>\n",
       "      <th>4</th>\n",
       "      <td>1.584161e+09</td>\n",
       "      <td>by request: a timelapse of me scoring my sunfl...</td>\n",
       "      <td></td>\n",
       "      <td>Sourdough</td>\n",
       "    </tr>\n",
       "  </tbody>\n",
       "</table>\n",
       "</div>"
      ],
      "text/plain": [
       "    created_utc                                              title  \\\n",
       "0  1.589802e+09  Here’s another video of me shaping sourdough. ...   \n",
       "1  1.710556e+09                                 Heed my warning ⚠️   \n",
       "2  1.679841e+09                   Why did my overnight proof fail?   \n",
       "3  1.589694e+09  My dad decided to make a Coronavirus themed so...   \n",
       "4  1.584161e+09  by request: a timelapse of me scoring my sunfl...   \n",
       "\n",
       "                                           self_text  subreddit  \n",
       "0                                                     Sourdough  \n",
       "1  When proofing dough in your oven, make sure ev...  Sourdough  \n",
       "2                                                     Sourdough  \n",
       "3                                                     Sourdough  \n",
       "4                                                     Sourdough  "
      ]
     },
     "execution_count": 23,
     "metadata": {},
     "output_type": "execute_result"
    }
   ],
   "source": [
    "sourdough.head()"
   ]
  },
  {
   "cell_type": "code",
   "execution_count": 24,
   "id": "08140a19-1d02-4465-9bcf-3e593dc46da7",
   "metadata": {
    "tags": []
   },
   "outputs": [
    {
     "data": {
      "text/plain": [
       "(1946, 4)"
      ]
     },
     "execution_count": 24,
     "metadata": {},
     "output_type": "execute_result"
    }
   ],
   "source": [
    "pizza = pd.concat([pizza1, pizza2])\n",
    "pizza.drop_duplicates(subset= \"title\", keep= \"first\", inplace= True)\n",
    "pizza.shape"
   ]
  },
  {
   "cell_type": "code",
   "execution_count": 25,
   "id": "c294d947-4632-4101-97f5-c7cb5858d13e",
   "metadata": {
    "tags": []
   },
   "outputs": [
    {
     "data": {
      "text/html": [
       "<div>\n",
       "<style scoped>\n",
       "    .dataframe tbody tr th:only-of-type {\n",
       "        vertical-align: middle;\n",
       "    }\n",
       "\n",
       "    .dataframe tbody tr th {\n",
       "        vertical-align: top;\n",
       "    }\n",
       "\n",
       "    .dataframe thead th {\n",
       "        text-align: right;\n",
       "    }\n",
       "</style>\n",
       "<table border=\"1\" class=\"dataframe\">\n",
       "  <thead>\n",
       "    <tr style=\"text-align: right;\">\n",
       "      <th></th>\n",
       "      <th>created_utc</th>\n",
       "      <th>title</th>\n",
       "      <th>self_text</th>\n",
       "      <th>subreddit</th>\n",
       "    </tr>\n",
       "  </thead>\n",
       "  <tbody>\n",
       "    <tr>\n",
       "      <th>0</th>\n",
       "      <td>1.720548e+09</td>\n",
       "      <td>It doesn't get much better than this - peppero...</td>\n",
       "      <td></td>\n",
       "      <td>Pizza</td>\n",
       "    </tr>\n",
       "    <tr>\n",
       "      <th>1</th>\n",
       "      <td>1.720546e+09</td>\n",
       "      <td>Dough not meeting windowpane test</td>\n",
       "      <td>I’ve been using the modernist pizza artisanal ...</td>\n",
       "      <td>Pizza</td>\n",
       "    </tr>\n",
       "    <tr>\n",
       "      <th>2</th>\n",
       "      <td>1.720544e+09</td>\n",
       "      <td>pepperoni pan pizza</td>\n",
       "      <td></td>\n",
       "      <td>Pizza</td>\n",
       "    </tr>\n",
       "    <tr>\n",
       "      <th>3</th>\n",
       "      <td>1.720544e+09</td>\n",
       "      <td>Sourdough Margherita</td>\n",
       "      <td></td>\n",
       "      <td>Pizza</td>\n",
       "    </tr>\n",
       "    <tr>\n",
       "      <th>4</th>\n",
       "      <td>1.720543e+09</td>\n",
       "      <td>Seafood Pizza ⛵🦐🍤</td>\n",
       "      <td></td>\n",
       "      <td>Pizza</td>\n",
       "    </tr>\n",
       "  </tbody>\n",
       "</table>\n",
       "</div>"
      ],
      "text/plain": [
       "    created_utc                                              title  \\\n",
       "0  1.720548e+09  It doesn't get much better than this - peppero...   \n",
       "1  1.720546e+09                  Dough not meeting windowpane test   \n",
       "2  1.720544e+09                                pepperoni pan pizza   \n",
       "3  1.720544e+09                               Sourdough Margherita   \n",
       "4  1.720543e+09                                  Seafood Pizza ⛵🦐🍤   \n",
       "\n",
       "                                           self_text subreddit  \n",
       "0                                                        Pizza  \n",
       "1  I’ve been using the modernist pizza artisanal ...     Pizza  \n",
       "2                                                        Pizza  \n",
       "3                                                        Pizza  \n",
       "4                                                        Pizza  "
      ]
     },
     "execution_count": 25,
     "metadata": {},
     "output_type": "execute_result"
    }
   ],
   "source": [
    "pizza.head()"
   ]
  },
  {
   "cell_type": "markdown",
   "id": "59cea68d-589a-4fc6-a795-f98a9b5530b1",
   "metadata": {},
   "source": [
    "There is a limit to how many posts you can pull from reddit in 1 go, usually 1000, so I just did 2 from differing post sorting (new and top), concatenated the dataframes then dropped the duplicates according to the title, this way we ensure that any that slipped through the API, though unlikely, are removed in this stage too. This way, we achieve the 1000 post minimum, as each category only allows timebacking up to a 1000 posts according to reddit."
   ]
  },
  {
   "cell_type": "markdown",
   "id": "46ddfed9-dc46-4dfc-98ed-c78f5004c06b",
   "metadata": {},
   "source": [
    "## EDA"
   ]
  },
  {
   "cell_type": "code",
   "execution_count": 28,
   "id": "d6bb3a5b-e0d6-4ff1-b2f1-750953ab8a02",
   "metadata": {
    "tags": []
   },
   "outputs": [],
   "source": [
    "import pandas as pd\n",
    "import numpy as np\n",
    "import matplotlib.pyplot as plt\n",
    "import seaborn as sns"
   ]
  },
  {
   "cell_type": "code",
   "execution_count": 29,
   "id": "40079b11-6395-4b61-8443-b53634b33d62",
   "metadata": {
    "tags": []
   },
   "outputs": [
    {
     "data": {
      "text/plain": [
       "created_utc    0\n",
       "title          0\n",
       "self_text      0\n",
       "subreddit      0\n",
       "dtype: int64"
      ]
     },
     "execution_count": 29,
     "metadata": {},
     "output_type": "execute_result"
    }
   ],
   "source": [
    "pizza.isna().sum()"
   ]
  },
  {
   "cell_type": "code",
   "execution_count": 30,
   "id": "950fd44e-6d40-4a8a-9acd-6e3fac1e30f9",
   "metadata": {
    "tags": []
   },
   "outputs": [
    {
     "data": {
      "text/plain": [
       "''"
      ]
     },
     "execution_count": 30,
     "metadata": {},
     "output_type": "execute_result"
    }
   ],
   "source": [
    "pizza.iloc[3,2]"
   ]
  },
  {
   "cell_type": "code",
   "execution_count": 31,
   "id": "d33611bf-20dc-4892-a1a1-cfbe877391f6",
   "metadata": {
    "tags": []
   },
   "outputs": [
    {
     "data": {
      "text/plain": [
       "1333"
      ]
     },
     "execution_count": 31,
     "metadata": {},
     "output_type": "execute_result"
    }
   ],
   "source": [
    "len(pizza[pizza.self_text == \"\"])"
   ]
  },
  {
   "cell_type": "code",
   "execution_count": 32,
   "id": "7f1281a8-1ad6-4f7f-920b-a69956e19fcd",
   "metadata": {
    "tags": []
   },
   "outputs": [],
   "source": [
    "pizza.self_text = np.where(pizza.self_text == \"\", pizza.title, pizza.self_text)"
   ]
  },
  {
   "cell_type": "code",
   "execution_count": 33,
   "id": "6099c0ab-aa81-4077-8549-5969a5f1984b",
   "metadata": {
    "tags": []
   },
   "outputs": [
    {
     "data": {
      "text/plain": [
       "0"
      ]
     },
     "execution_count": 33,
     "metadata": {},
     "output_type": "execute_result"
    }
   ],
   "source": [
    "len(pizza[pizza.self_text == \"\"])"
   ]
  },
  {
   "cell_type": "markdown",
   "id": "15061788-c16e-4bf4-9a78-665dd66d2cd2",
   "metadata": {},
   "source": [
    "I noticed that posts usually write out the text as the title, then post picture in the self_text part of the post. This way it comes out blank, hence, I'll just duplicate the title into the self-text as it is the same thing. And given that you cannot post without a title, there was no point cleaning that column"
   ]
  },
  {
   "cell_type": "code",
   "execution_count": 35,
   "id": "956843c7-1d88-4885-a94f-aae8afb7c1ae",
   "metadata": {
    "tags": []
   },
   "outputs": [
    {
     "data": {
      "text/plain": [
       "created_utc    0\n",
       "title          0\n",
       "self_text      0\n",
       "subreddit      0\n",
       "dtype: int64"
      ]
     },
     "execution_count": 35,
     "metadata": {},
     "output_type": "execute_result"
    }
   ],
   "source": [
    "sourdough.isna().sum()"
   ]
  },
  {
   "cell_type": "code",
   "execution_count": 36,
   "id": "f6198a68-b26c-40a8-b34c-2b202fe792d3",
   "metadata": {
    "tags": []
   },
   "outputs": [
    {
     "data": {
      "text/plain": [
       "1016"
      ]
     },
     "execution_count": 36,
     "metadata": {},
     "output_type": "execute_result"
    }
   ],
   "source": [
    "len(sourdough[sourdough.self_text == \"\"])"
   ]
  },
  {
   "cell_type": "code",
   "execution_count": 37,
   "id": "3f4cc6f8-854a-4a1b-9e87-65091aec5397",
   "metadata": {
    "tags": []
   },
   "outputs": [],
   "source": [
    "sourdough.self_text = np.where(sourdough.self_text == \"\", sourdough.title, sourdough.self_text)"
   ]
  },
  {
   "cell_type": "code",
   "execution_count": 38,
   "id": "84d82cb4-dc90-494e-a1e6-2a15baa5fce0",
   "metadata": {
    "tags": []
   },
   "outputs": [
    {
     "data": {
      "text/plain": [
       "0"
      ]
     },
     "execution_count": 38,
     "metadata": {},
     "output_type": "execute_result"
    }
   ],
   "source": [
    "len(sourdough[sourdough.self_text == \"\"])"
   ]
  },
  {
   "cell_type": "markdown",
   "id": "bd72b252-d2a8-4ae0-89a6-921d4dd264ae",
   "metadata": {},
   "source": [
    "This way, we can just sift through the self_text for posts"
   ]
  },
  {
   "cell_type": "code",
   "execution_count": 40,
   "id": "edba370d-e613-45e9-9c7e-b4fe7467abec",
   "metadata": {
    "tags": []
   },
   "outputs": [],
   "source": [
    "pizza.drop(columns= [\"created_utc\", \"title\"], inplace= True)\n",
    "sourdough.drop(columns= [\"created_utc\", \"title\"], inplace= True)"
   ]
  },
  {
   "cell_type": "markdown",
   "id": "43f31e21-f83f-4abd-b330-0d8e0befecd9",
   "metadata": {},
   "source": [
    "got rid of unnecessary columns now that we have all our posts and pretty sure we have no duplicates"
   ]
  },
  {
   "cell_type": "code",
   "execution_count": 42,
   "id": "218cc482-89c4-496d-9938-011a938aa5ff",
   "metadata": {
    "tags": []
   },
   "outputs": [
    {
     "data": {
      "text/html": [
       "<div>\n",
       "<style scoped>\n",
       "    .dataframe tbody tr th:only-of-type {\n",
       "        vertical-align: middle;\n",
       "    }\n",
       "\n",
       "    .dataframe tbody tr th {\n",
       "        vertical-align: top;\n",
       "    }\n",
       "\n",
       "    .dataframe thead th {\n",
       "        text-align: right;\n",
       "    }\n",
       "</style>\n",
       "<table border=\"1\" class=\"dataframe\">\n",
       "  <thead>\n",
       "    <tr style=\"text-align: right;\">\n",
       "      <th></th>\n",
       "      <th>self_text</th>\n",
       "      <th>subreddit</th>\n",
       "    </tr>\n",
       "  </thead>\n",
       "  <tbody>\n",
       "    <tr>\n",
       "      <th>0</th>\n",
       "      <td>It doesn't get much better than this - peppero...</td>\n",
       "      <td>Pizza</td>\n",
       "    </tr>\n",
       "    <tr>\n",
       "      <th>1</th>\n",
       "      <td>I’ve been using the modernist pizza artisanal ...</td>\n",
       "      <td>Pizza</td>\n",
       "    </tr>\n",
       "    <tr>\n",
       "      <th>2</th>\n",
       "      <td>pepperoni pan pizza</td>\n",
       "      <td>Pizza</td>\n",
       "    </tr>\n",
       "    <tr>\n",
       "      <th>3</th>\n",
       "      <td>Sourdough Margherita</td>\n",
       "      <td>Pizza</td>\n",
       "    </tr>\n",
       "    <tr>\n",
       "      <th>4</th>\n",
       "      <td>Seafood Pizza ⛵🦐🍤</td>\n",
       "      <td>Pizza</td>\n",
       "    </tr>\n",
       "  </tbody>\n",
       "</table>\n",
       "</div>"
      ],
      "text/plain": [
       "                                           self_text subreddit\n",
       "0  It doesn't get much better than this - peppero...     Pizza\n",
       "1  I’ve been using the modernist pizza artisanal ...     Pizza\n",
       "2                                pepperoni pan pizza     Pizza\n",
       "3                               Sourdough Margherita     Pizza\n",
       "4                                  Seafood Pizza ⛵🦐🍤     Pizza"
      ]
     },
     "execution_count": 42,
     "metadata": {},
     "output_type": "execute_result"
    }
   ],
   "source": [
    "pizza.head()"
   ]
  },
  {
   "cell_type": "code",
   "execution_count": 43,
   "id": "a7ee6787-1418-4f0a-8d61-713e5ad08339",
   "metadata": {
    "tags": []
   },
   "outputs": [
    {
     "data": {
      "text/html": [
       "<div>\n",
       "<style scoped>\n",
       "    .dataframe tbody tr th:only-of-type {\n",
       "        vertical-align: middle;\n",
       "    }\n",
       "\n",
       "    .dataframe tbody tr th {\n",
       "        vertical-align: top;\n",
       "    }\n",
       "\n",
       "    .dataframe thead th {\n",
       "        text-align: right;\n",
       "    }\n",
       "</style>\n",
       "<table border=\"1\" class=\"dataframe\">\n",
       "  <thead>\n",
       "    <tr style=\"text-align: right;\">\n",
       "      <th></th>\n",
       "      <th>self_text</th>\n",
       "      <th>subreddit</th>\n",
       "    </tr>\n",
       "  </thead>\n",
       "  <tbody>\n",
       "    <tr>\n",
       "      <th>0</th>\n",
       "      <td>Here’s another video of me shaping sourdough. ...</td>\n",
       "      <td>Sourdough</td>\n",
       "    </tr>\n",
       "    <tr>\n",
       "      <th>1</th>\n",
       "      <td>When proofing dough in your oven, make sure ev...</td>\n",
       "      <td>Sourdough</td>\n",
       "    </tr>\n",
       "    <tr>\n",
       "      <th>2</th>\n",
       "      <td>Why did my overnight proof fail?</td>\n",
       "      <td>Sourdough</td>\n",
       "    </tr>\n",
       "    <tr>\n",
       "      <th>3</th>\n",
       "      <td>My dad decided to make a Coronavirus themed so...</td>\n",
       "      <td>Sourdough</td>\n",
       "    </tr>\n",
       "    <tr>\n",
       "      <th>4</th>\n",
       "      <td>by request: a timelapse of me scoring my sunfl...</td>\n",
       "      <td>Sourdough</td>\n",
       "    </tr>\n",
       "  </tbody>\n",
       "</table>\n",
       "</div>"
      ],
      "text/plain": [
       "                                           self_text  subreddit\n",
       "0  Here’s another video of me shaping sourdough. ...  Sourdough\n",
       "1  When proofing dough in your oven, make sure ev...  Sourdough\n",
       "2                   Why did my overnight proof fail?  Sourdough\n",
       "3  My dad decided to make a Coronavirus themed so...  Sourdough\n",
       "4  by request: a timelapse of me scoring my sunfl...  Sourdough"
      ]
     },
     "execution_count": 43,
     "metadata": {},
     "output_type": "execute_result"
    }
   ],
   "source": [
    "sourdough.head()"
   ]
  },
  {
   "cell_type": "markdown",
   "id": "e5d53b70-ed1b-4411-a67b-3c39d78f058c",
   "metadata": {},
   "source": [
    "Since this is a classification problem, we'll only take the first 1900 posts, to weight them the same and avoid imbalance and possible bias."
   ]
  },
  {
   "cell_type": "code",
   "execution_count": 45,
   "id": "3b3e4e9e-0969-4513-9b95-1b3a70679953",
   "metadata": {
    "tags": []
   },
   "outputs": [
    {
     "data": {
      "text/plain": [
       "(1900, 2)"
      ]
     },
     "execution_count": 45,
     "metadata": {},
     "output_type": "execute_result"
    }
   ],
   "source": [
    "pizza = pizza[:1900]\n",
    "pizza.shape"
   ]
  },
  {
   "cell_type": "code",
   "execution_count": 46,
   "id": "c2f4b0a0-30e6-4bd5-87f4-f952b4ec17fb",
   "metadata": {
    "tags": []
   },
   "outputs": [
    {
     "data": {
      "text/plain": [
       "(1900, 2)"
      ]
     },
     "execution_count": 46,
     "metadata": {},
     "output_type": "execute_result"
    }
   ],
   "source": [
    "sourdough = sourdough[:1900]\n",
    "sourdough.shape"
   ]
  },
  {
   "cell_type": "markdown",
   "id": "2dfa101c-5155-4938-86a5-3a6aecdd53f3",
   "metadata": {},
   "source": [
    "We concatenate these dataframes for preprocessing and modelling, and we pickle it as we would like to work off of a consistent dataframe, and reddit will continue to update it's posts and archive within each category"
   ]
  },
  {
   "cell_type": "code",
   "execution_count": 48,
   "id": "8dd556fe-6f08-4f6b-90cf-060409214a31",
   "metadata": {
    "tags": []
   },
   "outputs": [],
   "source": [
    "reddit_df = pd.concat([pizza, sourdough], axis= 0)"
   ]
  },
  {
   "cell_type": "code",
   "execution_count": 49,
   "id": "f2b2ea1e-af50-4824-918a-1f402f316a45",
   "metadata": {
    "tags": []
   },
   "outputs": [],
   "source": [
    "import pickle\n",
    "\n",
    "with open(\"reddit_df.pkl\", \"wb\") as f:\n",
    "    pickle.dump(reddit_df, f)"
   ]
  },
  {
   "cell_type": "code",
   "execution_count": 50,
   "id": "df7018fa-06c2-467f-8a8e-a876f0efc1d5",
   "metadata": {
    "tags": []
   },
   "outputs": [],
   "source": [
    "with open(\"reddit_df.pkl\", \"rb\") as f:\n",
    "    reddit_df = pickle.load(f)"
   ]
  },
  {
   "cell_type": "code",
   "execution_count": 51,
   "id": "0b3b5660-a97f-40aa-a8e7-7743e88bbb5e",
   "metadata": {
    "tags": []
   },
   "outputs": [
    {
     "data": {
      "text/html": [
       "<div>\n",
       "<style scoped>\n",
       "    .dataframe tbody tr th:only-of-type {\n",
       "        vertical-align: middle;\n",
       "    }\n",
       "\n",
       "    .dataframe tbody tr th {\n",
       "        vertical-align: top;\n",
       "    }\n",
       "\n",
       "    .dataframe thead th {\n",
       "        text-align: right;\n",
       "    }\n",
       "</style>\n",
       "<table border=\"1\" class=\"dataframe\">\n",
       "  <thead>\n",
       "    <tr style=\"text-align: right;\">\n",
       "      <th></th>\n",
       "      <th>self_text</th>\n",
       "      <th>subreddit</th>\n",
       "    </tr>\n",
       "  </thead>\n",
       "  <tbody>\n",
       "    <tr>\n",
       "      <th>0</th>\n",
       "      <td>It doesn't get much better than this - peppero...</td>\n",
       "      <td>Pizza</td>\n",
       "    </tr>\n",
       "    <tr>\n",
       "      <th>1</th>\n",
       "      <td>I’ve been using the modernist pizza artisanal ...</td>\n",
       "      <td>Pizza</td>\n",
       "    </tr>\n",
       "    <tr>\n",
       "      <th>2</th>\n",
       "      <td>pepperoni pan pizza</td>\n",
       "      <td>Pizza</td>\n",
       "    </tr>\n",
       "    <tr>\n",
       "      <th>3</th>\n",
       "      <td>Sourdough Margherita</td>\n",
       "      <td>Pizza</td>\n",
       "    </tr>\n",
       "    <tr>\n",
       "      <th>4</th>\n",
       "      <td>Seafood Pizza ⛵🦐🍤</td>\n",
       "      <td>Pizza</td>\n",
       "    </tr>\n",
       "  </tbody>\n",
       "</table>\n",
       "</div>"
      ],
      "text/plain": [
       "                                           self_text subreddit\n",
       "0  It doesn't get much better than this - peppero...     Pizza\n",
       "1  I’ve been using the modernist pizza artisanal ...     Pizza\n",
       "2                                pepperoni pan pizza     Pizza\n",
       "3                               Sourdough Margherita     Pizza\n",
       "4                                  Seafood Pizza ⛵🦐🍤     Pizza"
      ]
     },
     "execution_count": 51,
     "metadata": {},
     "output_type": "execute_result"
    }
   ],
   "source": [
    "reddit_df.head()"
   ]
  },
  {
   "cell_type": "code",
   "execution_count": 52,
   "id": "ad03ff0f-cc48-4441-b2bc-3b8ccd8169cf",
   "metadata": {
    "tags": []
   },
   "outputs": [
    {
     "data": {
      "text/html": [
       "<div>\n",
       "<style scoped>\n",
       "    .dataframe tbody tr th:only-of-type {\n",
       "        vertical-align: middle;\n",
       "    }\n",
       "\n",
       "    .dataframe tbody tr th {\n",
       "        vertical-align: top;\n",
       "    }\n",
       "\n",
       "    .dataframe thead th {\n",
       "        text-align: right;\n",
       "    }\n",
       "</style>\n",
       "<table border=\"1\" class=\"dataframe\">\n",
       "  <thead>\n",
       "    <tr style=\"text-align: right;\">\n",
       "      <th></th>\n",
       "      <th>self_text</th>\n",
       "      <th>subreddit</th>\n",
       "    </tr>\n",
       "  </thead>\n",
       "  <tbody>\n",
       "    <tr>\n",
       "      <th>924</th>\n",
       "      <td>hello all i have been making the king arthur n...</td>\n",
       "      <td>Sourdough</td>\n",
       "    </tr>\n",
       "    <tr>\n",
       "      <th>925</th>\n",
       "      <td>Hi! I haven’t used my sourdough starter in abo...</td>\n",
       "      <td>Sourdough</td>\n",
       "    </tr>\n",
       "    <tr>\n",
       "      <th>926</th>\n",
       "      <td>I hate wasting anything, so was looking for re...</td>\n",
       "      <td>Sourdough</td>\n",
       "    </tr>\n",
       "    <tr>\n",
       "      <th>927</th>\n",
       "      <td>I have been making sourdough bread for three m...</td>\n",
       "      <td>Sourdough</td>\n",
       "    </tr>\n",
       "    <tr>\n",
       "      <th>928</th>\n",
       "      <td>I've been trying all kinds of recipes on the h...</td>\n",
       "      <td>Sourdough</td>\n",
       "    </tr>\n",
       "  </tbody>\n",
       "</table>\n",
       "</div>"
      ],
      "text/plain": [
       "                                             self_text  subreddit\n",
       "924  hello all i have been making the king arthur n...  Sourdough\n",
       "925  Hi! I haven’t used my sourdough starter in abo...  Sourdough\n",
       "926  I hate wasting anything, so was looking for re...  Sourdough\n",
       "927  I have been making sourdough bread for three m...  Sourdough\n",
       "928  I've been trying all kinds of recipes on the h...  Sourdough"
      ]
     },
     "execution_count": 52,
     "metadata": {},
     "output_type": "execute_result"
    }
   ],
   "source": [
    "reddit_df.tail()"
   ]
  },
  {
   "cell_type": "code",
   "execution_count": 115,
   "id": "ccc392d8-b990-491f-8fed-8772c4769e87",
   "metadata": {
    "tags": []
   },
   "outputs": [],
   "source": [
    "with open(\"pizza.pkl\", \"wb\") as f:\n",
    "    pickle.dump(pizza, f)\n",
    "\n",
    "with open(\"pizza.pkl\", \"rb\") as f:\n",
    "    pizza = pickle.load(f)"
   ]
  },
  {
   "cell_type": "code",
   "execution_count": 117,
   "id": "07754cba-8df9-4b0d-a710-c269f87a3905",
   "metadata": {
    "tags": []
   },
   "outputs": [],
   "source": [
    "with open(\"sourdough.pkl\", \"wb\") as f:\n",
    "    pickle.dump(sourdough, f)\n",
    "\n",
    "with open(\"sourdough.pkl\", \"rb\") as f:\n",
    "    sourdough = pickle.load(f)"
   ]
  },
  {
   "cell_type": "markdown",
   "id": "f0ad7104-7fdd-4195-95e4-820488d959f6",
   "metadata": {},
   "source": [
    "We do the same with sourdough and pizza, as we would like to see some trends with them as well"
   ]
  },
  {
   "cell_type": "markdown",
   "id": "ffd48218-cb6f-493e-9606-451039deac2b",
   "metadata": {},
   "source": [
    "### Preprocessing"
   ]
  },
  {
   "cell_type": "markdown",
   "id": "edefa131-ce2c-4aff-bdc0-0de26a243f8c",
   "metadata": {},
   "source": [
    "A lot of the preprocessing for NLP can be done via countvectorizing and tfidvectorizing."
   ]
  },
  {
   "cell_type": "markdown",
   "id": "fdbf3941-1b17-4e37-8c15-eee6db966905",
   "metadata": {},
   "source": [
    "I opt not to lemmatize/stem the status as we are dealing with very small samples of texts from a social forum. The oversimplification of language could lead us to, on whole, lose out on a lot of informal language and their importance."
   ]
  },
  {
   "cell_type": "code",
   "execution_count": 342,
   "id": "50dbe038-7703-48e5-a488-ed658caa74c9",
   "metadata": {
    "tags": []
   },
   "outputs": [],
   "source": [
    "from sklearn.model_selection import train_test_split, GridSearchCV\n",
    "from sklearn.linear_model import LogisticRegression\n",
    "from sklearn.pipeline import Pipeline\n",
    "from sklearn.naive_bayes import MultinomialNB\n",
    "from sklearn import metrics\n",
    "from sklearn.feature_extraction.text import CountVectorizer, TfidfVectorizer"
   ]
  },
  {
   "cell_type": "markdown",
   "id": "fcf8c5a4-665d-4bc1-8956-0f916cbe063f",
   "metadata": {},
   "source": [
    "First we see the most frequent words within sourdough and pizza, as well as sentiment analysing"
   ]
  },
  {
   "cell_type": "code",
   "execution_count": 122,
   "id": "e92c04c3-2dbc-4654-a3ed-d522d595c306",
   "metadata": {
    "tags": []
   },
   "outputs": [
    {
     "data": {
      "text/html": [
       "<div>\n",
       "<style scoped>\n",
       "    .dataframe tbody tr th:only-of-type {\n",
       "        vertical-align: middle;\n",
       "    }\n",
       "\n",
       "    .dataframe tbody tr th {\n",
       "        vertical-align: top;\n",
       "    }\n",
       "\n",
       "    .dataframe thead th {\n",
       "        text-align: right;\n",
       "    }\n",
       "</style>\n",
       "<table border=\"1\" class=\"dataframe\">\n",
       "  <thead>\n",
       "    <tr style=\"text-align: right;\">\n",
       "      <th></th>\n",
       "      <th>self_text</th>\n",
       "      <th>subreddit</th>\n",
       "    </tr>\n",
       "  </thead>\n",
       "  <tbody>\n",
       "    <tr>\n",
       "      <th>0</th>\n",
       "      <td>It doesn't get much better than this - peppero...</td>\n",
       "      <td>Pizza</td>\n",
       "    </tr>\n",
       "    <tr>\n",
       "      <th>1</th>\n",
       "      <td>I’ve been using the modernist pizza artisanal ...</td>\n",
       "      <td>Pizza</td>\n",
       "    </tr>\n",
       "    <tr>\n",
       "      <th>2</th>\n",
       "      <td>pepperoni pan pizza</td>\n",
       "      <td>Pizza</td>\n",
       "    </tr>\n",
       "    <tr>\n",
       "      <th>3</th>\n",
       "      <td>Sourdough Margherita</td>\n",
       "      <td>Pizza</td>\n",
       "    </tr>\n",
       "    <tr>\n",
       "      <th>4</th>\n",
       "      <td>Seafood Pizza ⛵🦐🍤</td>\n",
       "      <td>Pizza</td>\n",
       "    </tr>\n",
       "  </tbody>\n",
       "</table>\n",
       "</div>"
      ],
      "text/plain": [
       "                                           self_text subreddit\n",
       "0  It doesn't get much better than this - peppero...     Pizza\n",
       "1  I’ve been using the modernist pizza artisanal ...     Pizza\n",
       "2                                pepperoni pan pizza     Pizza\n",
       "3                               Sourdough Margherita     Pizza\n",
       "4                                  Seafood Pizza ⛵🦐🍤     Pizza"
      ]
     },
     "execution_count": 122,
     "metadata": {},
     "output_type": "execute_result"
    }
   ],
   "source": [
    "pizza.head()"
   ]
  },
  {
   "cell_type": "code",
   "execution_count": 124,
   "id": "f49e67fb-7e97-4572-b987-5f83da87793b",
   "metadata": {
    "tags": []
   },
   "outputs": [
    {
     "data": {
      "text/html": [
       "<div>\n",
       "<style scoped>\n",
       "    .dataframe tbody tr th:only-of-type {\n",
       "        vertical-align: middle;\n",
       "    }\n",
       "\n",
       "    .dataframe tbody tr th {\n",
       "        vertical-align: top;\n",
       "    }\n",
       "\n",
       "    .dataframe thead th {\n",
       "        text-align: right;\n",
       "    }\n",
       "</style>\n",
       "<table border=\"1\" class=\"dataframe\">\n",
       "  <thead>\n",
       "    <tr style=\"text-align: right;\">\n",
       "      <th></th>\n",
       "      <th>self_text</th>\n",
       "      <th>subreddit</th>\n",
       "    </tr>\n",
       "  </thead>\n",
       "  <tbody>\n",
       "    <tr>\n",
       "      <th>0</th>\n",
       "      <td>Here’s another video of me shaping sourdough. ...</td>\n",
       "      <td>Sourdough</td>\n",
       "    </tr>\n",
       "    <tr>\n",
       "      <th>1</th>\n",
       "      <td>When proofing dough in your oven, make sure ev...</td>\n",
       "      <td>Sourdough</td>\n",
       "    </tr>\n",
       "    <tr>\n",
       "      <th>2</th>\n",
       "      <td>Why did my overnight proof fail?</td>\n",
       "      <td>Sourdough</td>\n",
       "    </tr>\n",
       "    <tr>\n",
       "      <th>3</th>\n",
       "      <td>My dad decided to make a Coronavirus themed so...</td>\n",
       "      <td>Sourdough</td>\n",
       "    </tr>\n",
       "    <tr>\n",
       "      <th>4</th>\n",
       "      <td>by request: a timelapse of me scoring my sunfl...</td>\n",
       "      <td>Sourdough</td>\n",
       "    </tr>\n",
       "  </tbody>\n",
       "</table>\n",
       "</div>"
      ],
      "text/plain": [
       "                                           self_text  subreddit\n",
       "0  Here’s another video of me shaping sourdough. ...  Sourdough\n",
       "1  When proofing dough in your oven, make sure ev...  Sourdough\n",
       "2                   Why did my overnight proof fail?  Sourdough\n",
       "3  My dad decided to make a Coronavirus themed so...  Sourdough\n",
       "4  by request: a timelapse of me scoring my sunfl...  Sourdough"
      ]
     },
     "execution_count": 124,
     "metadata": {},
     "output_type": "execute_result"
    }
   ],
   "source": [
    "sourdough.head()"
   ]
  },
  {
   "cell_type": "markdown",
   "id": "96acfd92-59f3-4188-96cc-032c66ffe395",
   "metadata": {},
   "source": [
    "Here we use count vecorization as we are simply looking for trends within each subreddit"
   ]
  },
  {
   "cell_type": "code",
   "execution_count": 129,
   "id": "7a386d15-3f09-436d-a431-cab572c6b105",
   "metadata": {
    "tags": []
   },
   "outputs": [
    {
     "data": {
      "text/html": [
       "<div>\n",
       "<style scoped>\n",
       "    .dataframe tbody tr th:only-of-type {\n",
       "        vertical-align: middle;\n",
       "    }\n",
       "\n",
       "    .dataframe tbody tr th {\n",
       "        vertical-align: top;\n",
       "    }\n",
       "\n",
       "    .dataframe thead th {\n",
       "        text-align: right;\n",
       "    }\n",
       "</style>\n",
       "<table border=\"1\" class=\"dataframe\">\n",
       "  <thead>\n",
       "    <tr style=\"text-align: right;\">\n",
       "      <th></th>\n",
       "      <th>00</th>\n",
       "      <th>03</th>\n",
       "      <th>08</th>\n",
       "      <th>085</th>\n",
       "      <th>0ae46svt</th>\n",
       "      <th>0mmvk5qk</th>\n",
       "      <th>10</th>\n",
       "      <th>100</th>\n",
       "      <th>1000</th>\n",
       "      <th>1000f</th>\n",
       "      <th>...</th>\n",
       "      <th>yum</th>\n",
       "      <th>yummy</th>\n",
       "      <th>za</th>\n",
       "      <th>zaaaaaaaa</th>\n",
       "      <th>zanesville</th>\n",
       "      <th>zas</th>\n",
       "      <th>zero</th>\n",
       "      <th>zest</th>\n",
       "      <th>zorch</th>\n",
       "      <th>zucchini</th>\n",
       "    </tr>\n",
       "  </thead>\n",
       "  <tbody>\n",
       "    <tr>\n",
       "      <th>0</th>\n",
       "      <td>0</td>\n",
       "      <td>0</td>\n",
       "      <td>0</td>\n",
       "      <td>0</td>\n",
       "      <td>0</td>\n",
       "      <td>0</td>\n",
       "      <td>0</td>\n",
       "      <td>0</td>\n",
       "      <td>0</td>\n",
       "      <td>0</td>\n",
       "      <td>...</td>\n",
       "      <td>0</td>\n",
       "      <td>0</td>\n",
       "      <td>0</td>\n",
       "      <td>0</td>\n",
       "      <td>0</td>\n",
       "      <td>0</td>\n",
       "      <td>0</td>\n",
       "      <td>0</td>\n",
       "      <td>0</td>\n",
       "      <td>0</td>\n",
       "    </tr>\n",
       "    <tr>\n",
       "      <th>1</th>\n",
       "      <td>1</td>\n",
       "      <td>0</td>\n",
       "      <td>0</td>\n",
       "      <td>0</td>\n",
       "      <td>0</td>\n",
       "      <td>0</td>\n",
       "      <td>0</td>\n",
       "      <td>0</td>\n",
       "      <td>0</td>\n",
       "      <td>0</td>\n",
       "      <td>...</td>\n",
       "      <td>0</td>\n",
       "      <td>0</td>\n",
       "      <td>0</td>\n",
       "      <td>0</td>\n",
       "      <td>0</td>\n",
       "      <td>0</td>\n",
       "      <td>0</td>\n",
       "      <td>0</td>\n",
       "      <td>0</td>\n",
       "      <td>0</td>\n",
       "    </tr>\n",
       "    <tr>\n",
       "      <th>2</th>\n",
       "      <td>0</td>\n",
       "      <td>0</td>\n",
       "      <td>0</td>\n",
       "      <td>0</td>\n",
       "      <td>0</td>\n",
       "      <td>0</td>\n",
       "      <td>0</td>\n",
       "      <td>0</td>\n",
       "      <td>0</td>\n",
       "      <td>0</td>\n",
       "      <td>...</td>\n",
       "      <td>0</td>\n",
       "      <td>0</td>\n",
       "      <td>0</td>\n",
       "      <td>0</td>\n",
       "      <td>0</td>\n",
       "      <td>0</td>\n",
       "      <td>0</td>\n",
       "      <td>0</td>\n",
       "      <td>0</td>\n",
       "      <td>0</td>\n",
       "    </tr>\n",
       "    <tr>\n",
       "      <th>3</th>\n",
       "      <td>0</td>\n",
       "      <td>0</td>\n",
       "      <td>0</td>\n",
       "      <td>0</td>\n",
       "      <td>0</td>\n",
       "      <td>0</td>\n",
       "      <td>0</td>\n",
       "      <td>0</td>\n",
       "      <td>0</td>\n",
       "      <td>0</td>\n",
       "      <td>...</td>\n",
       "      <td>0</td>\n",
       "      <td>0</td>\n",
       "      <td>0</td>\n",
       "      <td>0</td>\n",
       "      <td>0</td>\n",
       "      <td>0</td>\n",
       "      <td>0</td>\n",
       "      <td>0</td>\n",
       "      <td>0</td>\n",
       "      <td>0</td>\n",
       "    </tr>\n",
       "    <tr>\n",
       "      <th>4</th>\n",
       "      <td>0</td>\n",
       "      <td>0</td>\n",
       "      <td>0</td>\n",
       "      <td>0</td>\n",
       "      <td>0</td>\n",
       "      <td>0</td>\n",
       "      <td>0</td>\n",
       "      <td>0</td>\n",
       "      <td>0</td>\n",
       "      <td>0</td>\n",
       "      <td>...</td>\n",
       "      <td>0</td>\n",
       "      <td>0</td>\n",
       "      <td>0</td>\n",
       "      <td>0</td>\n",
       "      <td>0</td>\n",
       "      <td>0</td>\n",
       "      <td>0</td>\n",
       "      <td>0</td>\n",
       "      <td>0</td>\n",
       "      <td>0</td>\n",
       "    </tr>\n",
       "  </tbody>\n",
       "</table>\n",
       "<p>5 rows × 4060 columns</p>\n",
       "</div>"
      ],
      "text/plain": [
       "   00  03  08  085  0ae46svt  0mmvk5qk  10  100  1000  1000f  ...  yum  yummy  \\\n",
       "0   0   0   0    0         0         0   0    0     0      0  ...    0      0   \n",
       "1   1   0   0    0         0         0   0    0     0      0  ...    0      0   \n",
       "2   0   0   0    0         0         0   0    0     0      0  ...    0      0   \n",
       "3   0   0   0    0         0         0   0    0     0      0  ...    0      0   \n",
       "4   0   0   0    0         0         0   0    0     0      0  ...    0      0   \n",
       "\n",
       "   za  zaaaaaaaa  zanesville  zas  zero  zest  zorch  zucchini  \n",
       "0   0          0           0    0     0     0      0         0  \n",
       "1   0          0           0    0     0     0      0         0  \n",
       "2   0          0           0    0     0     0      0         0  \n",
       "3   0          0           0    0     0     0      0         0  \n",
       "4   0          0           0    0     0     0      0         0  \n",
       "\n",
       "[5 rows x 4060 columns]"
      ]
     },
     "execution_count": 129,
     "metadata": {},
     "output_type": "execute_result"
    }
   ],
   "source": [
    "cvec = CountVectorizer(stop_words= \"english\")\n",
    "\n",
    "px = pizza.self_text\n",
    "\n",
    "px_cvec = cvec.fit_transform(px)\n",
    "px_df = pd.DataFrame(\n",
    "    px_cvec.toarray(),\n",
    "    columns= cvec.get_feature_names_out()\n",
    ")\n",
    "px_df.head()"
   ]
  },
  {
   "cell_type": "code",
   "execution_count": 151,
   "id": "e1b31e27-f238-4be0-be72-a79d5e52bfe0",
   "metadata": {
    "tags": []
   },
   "outputs": [
    {
     "data": {
      "text/plain": [
       "pizza        1104\n",
       "dough         242\n",
       "oven          231\n",
       "pepperoni     204\n",
       "cheese        188\n",
       "style         187\n",
       "sauce         171\n",
       "crust         145\n",
       "homemade      127\n",
       "pizzas        119\n",
       "dtype: int64"
      ]
     },
     "execution_count": 151,
     "metadata": {},
     "output_type": "execute_result"
    }
   ],
   "source": [
    "pizza10 = px_df.sum().sort_values(ascending= False).head(10)\n",
    "pizza10"
   ]
  },
  {
   "cell_type": "code",
   "execution_count": 155,
   "id": "1a30a3be-14b4-43cd-8d0a-51ca46f4191a",
   "metadata": {
    "tags": []
   },
   "outputs": [
    {
     "data": {
      "text/plain": [
       "<Axes: xlabel='None', ylabel='None'>"
      ]
     },
     "execution_count": 155,
     "metadata": {},
     "output_type": "execute_result"
    },
    {
     "data": {
      "image/png": "[encoded data removed]",
      "text/plain": [
       "<Figure size 640x480 with 1 Axes>"
      ]
     },
     "metadata": {},
     "output_type": "display_data"
    }
   ],
   "source": [
    "sns.barplot(y= pizza10.index, x= pizza10, color= \"crimson\")"
   ]
  },
  {
   "cell_type": "markdown",
   "id": "288af829-7c37-4870-8183-fc7517d46fb6",
   "metadata": {},
   "source": [
    "Just showing the top 10 words in pizza subreddit"
   ]
  },
  {
   "cell_type": "code",
   "execution_count": 161,
   "id": "cbc9b857-26c3-4459-acf4-65e149b14115",
   "metadata": {
    "tags": []
   },
   "outputs": [
    {
     "data": {
      "text/plain": [
       "<Axes: ylabel='Count'>"
      ]
     },
     "execution_count": 161,
     "metadata": {},
     "output_type": "execute_result"
    },
    {
     "data": {
      "image/png": "[encoded data removed]",
      "text/plain": [
       "<Figure size 640x480 with 1 Axes>"
      ]
     },
     "metadata": {},
     "output_type": "display_data"
    }
   ],
   "source": [
    "sns.histplot(px_df.sum(axis= 1), bins= 100)"
   ]
  },
  {
   "cell_type": "markdown",
   "id": "d82787f3-9fda-44ae-b5eb-bb366ebdbc8a",
   "metadata": {},
   "source": [
    "This shows that there was a massive left-skew, that there were key words vital to the subreddit \"Pizza\""
   ]
  },
  {
   "cell_type": "code",
   "execution_count": 164,
   "id": "2e4942bd-4e3c-4007-99d7-0038653f603c",
   "metadata": {
    "tags": []
   },
   "outputs": [
    {
     "data": {
      "text/html": [
       "<div>\n",
       "<style scoped>\n",
       "    .dataframe tbody tr th:only-of-type {\n",
       "        vertical-align: middle;\n",
       "    }\n",
       "\n",
       "    .dataframe tbody tr th {\n",
       "        vertical-align: top;\n",
       "    }\n",
       "\n",
       "    .dataframe thead th {\n",
       "        text-align: right;\n",
       "    }\n",
       "</style>\n",
       "<table border=\"1\" class=\"dataframe\">\n",
       "  <thead>\n",
       "    <tr style=\"text-align: right;\">\n",
       "      <th></th>\n",
       "      <th>00</th>\n",
       "      <th>000</th>\n",
       "      <th>00p</th>\n",
       "      <th>00pm</th>\n",
       "      <th>01</th>\n",
       "      <th>019ef78e159485b90ec21a72c8a919a6d2f29e1e</th>\n",
       "      <th>02</th>\n",
       "      <th>03</th>\n",
       "      <th>04</th>\n",
       "      <th>05</th>\n",
       "      <th>...</th>\n",
       "      <th>zippy</th>\n",
       "      <th>zippychick78</th>\n",
       "      <th>zombie</th>\n",
       "      <th>zone</th>\n",
       "      <th>zoom</th>\n",
       "      <th>zq4lhomct3gknfso</th>\n",
       "      <th>ztnfyb8dm</th>\n",
       "      <th>ztnjst3sc</th>\n",
       "      <th>ztnmhw2bp</th>\n",
       "      <th>æbleskiver</th>\n",
       "    </tr>\n",
       "  </thead>\n",
       "  <tbody>\n",
       "    <tr>\n",
       "      <th>0</th>\n",
       "      <td>0</td>\n",
       "      <td>0</td>\n",
       "      <td>0</td>\n",
       "      <td>0</td>\n",
       "      <td>0</td>\n",
       "      <td>0</td>\n",
       "      <td>0</td>\n",
       "      <td>0</td>\n",
       "      <td>0</td>\n",
       "      <td>0</td>\n",
       "      <td>...</td>\n",
       "      <td>0</td>\n",
       "      <td>0</td>\n",
       "      <td>0</td>\n",
       "      <td>0</td>\n",
       "      <td>0</td>\n",
       "      <td>0</td>\n",
       "      <td>0</td>\n",
       "      <td>0</td>\n",
       "      <td>0</td>\n",
       "      <td>0</td>\n",
       "    </tr>\n",
       "    <tr>\n",
       "      <th>1</th>\n",
       "      <td>0</td>\n",
       "      <td>0</td>\n",
       "      <td>0</td>\n",
       "      <td>0</td>\n",
       "      <td>0</td>\n",
       "      <td>0</td>\n",
       "      <td>0</td>\n",
       "      <td>0</td>\n",
       "      <td>0</td>\n",
       "      <td>0</td>\n",
       "      <td>...</td>\n",
       "      <td>0</td>\n",
       "      <td>0</td>\n",
       "      <td>0</td>\n",
       "      <td>0</td>\n",
       "      <td>0</td>\n",
       "      <td>0</td>\n",
       "      <td>0</td>\n",
       "      <td>0</td>\n",
       "      <td>0</td>\n",
       "      <td>0</td>\n",
       "    </tr>\n",
       "    <tr>\n",
       "      <th>2</th>\n",
       "      <td>0</td>\n",
       "      <td>0</td>\n",
       "      <td>0</td>\n",
       "      <td>0</td>\n",
       "      <td>0</td>\n",
       "      <td>0</td>\n",
       "      <td>0</td>\n",
       "      <td>0</td>\n",
       "      <td>0</td>\n",
       "      <td>0</td>\n",
       "      <td>...</td>\n",
       "      <td>0</td>\n",
       "      <td>0</td>\n",
       "      <td>0</td>\n",
       "      <td>0</td>\n",
       "      <td>0</td>\n",
       "      <td>0</td>\n",
       "      <td>0</td>\n",
       "      <td>0</td>\n",
       "      <td>0</td>\n",
       "      <td>0</td>\n",
       "    </tr>\n",
       "    <tr>\n",
       "      <th>3</th>\n",
       "      <td>0</td>\n",
       "      <td>0</td>\n",
       "      <td>0</td>\n",
       "      <td>0</td>\n",
       "      <td>0</td>\n",
       "      <td>0</td>\n",
       "      <td>0</td>\n",
       "      <td>0</td>\n",
       "      <td>0</td>\n",
       "      <td>0</td>\n",
       "      <td>...</td>\n",
       "      <td>0</td>\n",
       "      <td>0</td>\n",
       "      <td>0</td>\n",
       "      <td>0</td>\n",
       "      <td>0</td>\n",
       "      <td>0</td>\n",
       "      <td>0</td>\n",
       "      <td>0</td>\n",
       "      <td>0</td>\n",
       "      <td>0</td>\n",
       "    </tr>\n",
       "    <tr>\n",
       "      <th>4</th>\n",
       "      <td>0</td>\n",
       "      <td>0</td>\n",
       "      <td>0</td>\n",
       "      <td>0</td>\n",
       "      <td>0</td>\n",
       "      <td>0</td>\n",
       "      <td>0</td>\n",
       "      <td>0</td>\n",
       "      <td>0</td>\n",
       "      <td>0</td>\n",
       "      <td>...</td>\n",
       "      <td>0</td>\n",
       "      <td>0</td>\n",
       "      <td>0</td>\n",
       "      <td>0</td>\n",
       "      <td>0</td>\n",
       "      <td>0</td>\n",
       "      <td>0</td>\n",
       "      <td>0</td>\n",
       "      <td>0</td>\n",
       "      <td>0</td>\n",
       "    </tr>\n",
       "  </tbody>\n",
       "</table>\n",
       "<p>5 rows × 6356 columns</p>\n",
       "</div>"
      ],
      "text/plain": [
       "   00  000  00p  00pm  01  019ef78e159485b90ec21a72c8a919a6d2f29e1e  02  03  \\\n",
       "0   0    0    0     0   0                                         0   0   0   \n",
       "1   0    0    0     0   0                                         0   0   0   \n",
       "2   0    0    0     0   0                                         0   0   0   \n",
       "3   0    0    0     0   0                                         0   0   0   \n",
       "4   0    0    0     0   0                                         0   0   0   \n",
       "\n",
       "   04  05  ...  zippy  zippychick78  zombie  zone  zoom  zq4lhomct3gknfso  \\\n",
       "0   0   0  ...      0             0       0     0     0                 0   \n",
       "1   0   0  ...      0             0       0     0     0                 0   \n",
       "2   0   0  ...      0             0       0     0     0                 0   \n",
       "3   0   0  ...      0             0       0     0     0                 0   \n",
       "4   0   0  ...      0             0       0     0     0                 0   \n",
       "\n",
       "   ztnfyb8dm  ztnjst3sc  ztnmhw2bp  æbleskiver  \n",
       "0          0          0          0           0  \n",
       "1          0          0          0           0  \n",
       "2          0          0          0           0  \n",
       "3          0          0          0           0  \n",
       "4          0          0          0           0  \n",
       "\n",
       "[5 rows x 6356 columns]"
      ]
     },
     "execution_count": 164,
     "metadata": {},
     "output_type": "execute_result"
    }
   ],
   "source": [
    "cvec = CountVectorizer(stop_words= \"english\")\n",
    "\n",
    "sx = sourdough.self_text\n",
    "\n",
    "sx_cvec = cvec.fit_transform(sx)\n",
    "sx_df = pd.DataFrame(\n",
    "    sx_cvec.toarray(),\n",
    "    columns= cvec.get_feature_names_out()\n",
    ")\n",
    "sx_df.head()"
   ]
  },
  {
   "cell_type": "code",
   "execution_count": 166,
   "id": "65fc81e1-88aa-4d7d-8ea6-c7a49e9bb0ee",
   "metadata": {
    "tags": []
   },
   "outputs": [
    {
     "data": {
      "text/plain": [
       "starter      1138\n",
       "flour         963\n",
       "sourdough     903\n",
       "bread         823\n",
       "dough         677\n",
       "water         657\n",
       "loaf          601\n",
       "recipe        555\n",
       "hours         525\n",
       "oven          502\n",
       "dtype: int64"
      ]
     },
     "execution_count": 166,
     "metadata": {},
     "output_type": "execute_result"
    }
   ],
   "source": [
    "sourdough10 = sx_df.sum().sort_values(ascending= False).head(10)\n",
    "sourdough10"
   ]
  },
  {
   "cell_type": "code",
   "execution_count": 168,
   "id": "5187e308-5217-496b-87a0-4ffa1c112e75",
   "metadata": {
    "tags": []
   },
   "outputs": [
    {
     "data": {
      "text/plain": [
       "<Axes: xlabel='None', ylabel='None'>"
      ]
     },
     "execution_count": 168,
     "metadata": {},
     "output_type": "execute_result"
    },
    {
     "data": {
      "image/png": "[encoded data removed]",
      "text/plain": [
       "<Figure size 640x480 with 1 Axes>"
      ]
     },
     "metadata": {},
     "output_type": "display_data"
    }
   ],
   "source": [
    "sns.barplot(y= sourdough10.index, x= sourdough10, color= \"brown\")"
   ]
  },
  {
   "cell_type": "code",
   "execution_count": 252,
   "id": "3cb7ef9e-cee0-46b0-a873-6b006bb87f36",
   "metadata": {
    "tags": []
   },
   "outputs": [
    {
     "data": {
      "text/plain": [
       "['flour',\n",
       " 'dough',\n",
       " 'recipe',\n",
       " 'oven',\n",
       " 'salt',\n",
       " 've',\n",
       " 'just',\n",
       " 'time',\n",
       " 'like',\n",
       " 'day',\n",
       " 'hour',\n",
       " 'make',\n",
       " 'think',\n",
       " 'good',\n",
       " 'used',\n",
       " 'really']"
      ]
     },
     "execution_count": 252,
     "metadata": {},
     "output_type": "execute_result"
    }
   ],
   "source": [
    "sourdough50 = sx_df.sum().sort_values(ascending= False).head(50)\n",
    "pizza50 = px_df.sum().sort_values(ascending= False).head(50)\n",
    "[x for x in sourdough50.index if x in pizza50.index]"
   ]
  },
  {
   "cell_type": "markdown",
   "id": "bed97d77-a1c9-4667-bcb0-11ce0e604af3",
   "metadata": {},
   "source": [
    "Interestingly only share 15 words in the top 50 most frequent, and on is just a connective word that has been tokenized. Mostly words associated with cooking/recipes, and, good and really"
   ]
  },
  {
   "cell_type": "code",
   "execution_count": 170,
   "id": "4fa1169e-eba6-4d78-ab5d-185618623c2c",
   "metadata": {
    "tags": []
   },
   "outputs": [
    {
     "data": {
      "text/plain": [
       "<Axes: ylabel='Count'>"
      ]
     },
     "execution_count": 170,
     "metadata": {},
     "output_type": "execute_result"
    },
    {
     "data": {
      "image/png": "[encoded data removed]",
      "text/plain": [
       "<Figure size 640x480 with 1 Axes>"
      ]
     },
     "metadata": {},
     "output_type": "display_data"
    }
   ],
   "source": [
    "sns.histplot(sx_df.sum(axis= 1), bins= 100)"
   ]
  },
  {
   "cell_type": "code",
   "execution_count": 176,
   "id": "913e09b0-89fc-4472-9901-fe3a8a08f226",
   "metadata": {
    "tags": []
   },
   "outputs": [
    {
     "data": {
      "text/plain": [
       "<Axes: ylabel='Count'>"
      ]
     },
     "execution_count": 176,
     "metadata": {},
     "output_type": "execute_result"
    },
    {
     "data": {
      "image/png": "[encoded data removed]",
      "text/plain": [
       "<Figure size 640x480 with 1 Axes>"
      ]
     },
     "metadata": {},
     "output_type": "display_data"
    }
   ],
   "source": [
    "sns.histplot(px_df.sum(axis= 1), bins= 100, alpha= 1/2, color= \"red\")\n",
    "sns.histplot(sx_df.sum(axis= 1), bins= 100, alpha= 1/2, color= \"navy\")"
   ]
  },
  {
   "cell_type": "markdown",
   "id": "da7a98b3-bb06-4598-9916-3d02127e77e6",
   "metadata": {},
   "source": [
    "Whilst still similar, we can see that there is a more general spread of frequent words within the sourdough subreddit as opposed to the pizza subreddit."
   ]
  },
  {
   "cell_type": "markdown",
   "id": "89f57e4b-64d0-4c32-a8fd-f5d729053f8c",
   "metadata": {},
   "source": [
    "### Sentiment Analyzer"
   ]
  },
  {
   "cell_type": "code",
   "execution_count": 180,
   "id": "73053f2f-593c-4d4e-a7e3-8030309663eb",
   "metadata": {
    "tags": []
   },
   "outputs": [],
   "source": [
    "from nltk.sentiment.vader import SentimentIntensityAnalyzer"
   ]
  },
  {
   "cell_type": "code",
   "execution_count": 182,
   "id": "b029d691-0914-4f3b-8a38-a89ba6ec0066",
   "metadata": {
    "tags": []
   },
   "outputs": [],
   "source": [
    "sa = SentimentIntensityAnalyzer()"
   ]
  },
  {
   "cell_type": "code",
   "execution_count": 188,
   "id": "4f9e5580-e1cc-4ed8-a991-f646019d02a0",
   "metadata": {
    "tags": []
   },
   "outputs": [
    {
     "data": {
      "text/plain": [
       "0   -0.3412\n",
       "1   -0.3612\n",
       "2    0.0000\n",
       "3    0.0000\n",
       "4    0.0000\n",
       "Name: self_text, dtype: float64"
      ]
     },
     "execution_count": 188,
     "metadata": {},
     "output_type": "execute_result"
    }
   ],
   "source": [
    "pizza_sentiment = px.apply(lambda s: sa.polarity_scores(s)[\"compound\"])\n",
    "pizza_sentiment.head()"
   ]
  },
  {
   "cell_type": "markdown",
   "id": "6d68a9d6-1574-4176-9117-caf5597fa7bd",
   "metadata": {},
   "source": [
    "Here we cast the sentiment analyzer through a lambda function, so that it applies it individually to all rows in column, \"compound\" adds up the total neg/neu/pos scores"
   ]
  },
  {
   "cell_type": "code",
   "execution_count": 209,
   "id": "b5ed5b77-18c3-4909-8805-71ceaa2e4638",
   "metadata": {
    "tags": []
   },
   "outputs": [
    {
     "data": {
      "text/plain": [
       "382.4295"
      ]
     },
     "execution_count": 209,
     "metadata": {},
     "output_type": "execute_result"
    }
   ],
   "source": [
    "pizza_happiness = pizza_sentiment.sum()\n",
    "pizza_happiness"
   ]
  },
  {
   "cell_type": "code",
   "execution_count": 211,
   "id": "78cd51ed-1c80-4d2d-b2e1-e55f27882a12",
   "metadata": {
    "tags": []
   },
   "outputs": [
    {
     "data": {
      "text/plain": [
       "0.20127868421052633"
      ]
     },
     "execution_count": 211,
     "metadata": {},
     "output_type": "execute_result"
    }
   ],
   "source": [
    "av_pizza_user = pizza_sentiment.mean()\n",
    "av_pizza_user"
   ]
  },
  {
   "cell_type": "code",
   "execution_count": 199,
   "id": "403a4dab-d22d-43bb-aaa0-f6a761d230e6",
   "metadata": {
    "tags": []
   },
   "outputs": [
    {
     "data": {
      "text/plain": [
       "0    0.0000\n",
       "1    0.9381\n",
       "2   -0.5423\n",
       "3    0.0000\n",
       "4    0.0000\n",
       "Name: self_text, dtype: float64"
      ]
     },
     "execution_count": 199,
     "metadata": {},
     "output_type": "execute_result"
    }
   ],
   "source": [
    "sourdough_sentiment = sx.apply(lambda s: sa.polarity_scores(s)[\"compound\"])\n",
    "sourdough_sentiment.head()"
   ]
  },
  {
   "cell_type": "code",
   "execution_count": 207,
   "id": "d5629180-8956-4389-aafd-9aee0209b193",
   "metadata": {
    "tags": []
   },
   "outputs": [
    {
     "data": {
      "text/plain": [
       "648.5096"
      ]
     },
     "execution_count": 207,
     "metadata": {},
     "output_type": "execute_result"
    }
   ],
   "source": [
    "sourdough_happiness = sourdough_sentiment.sum()\n",
    "sourdough_happiness"
   ]
  },
  {
   "cell_type": "code",
   "execution_count": 213,
   "id": "53755164-53dd-4bdb-bb88-df3d79a1c0d9",
   "metadata": {
    "tags": []
   },
   "outputs": [
    {
     "data": {
      "text/plain": [
       "0.34132084210526314"
      ]
     },
     "execution_count": 213,
     "metadata": {},
     "output_type": "execute_result"
    }
   ],
   "source": [
    "av_sourdough_user = sourdough_sentiment.mean()\n",
    "av_sourdough_user"
   ]
  },
  {
   "cell_type": "code",
   "execution_count": 231,
   "id": "c29bbdd0-7397-49ef-8a1a-a93f31136ba3",
   "metadata": {
    "tags": []
   },
   "outputs": [
    {
     "data": {
      "text/plain": [
       "Text(0.5, 1.0, 'Subreddit Happiness')"
      ]
     },
     "execution_count": 231,
     "metadata": {},
     "output_type": "execute_result"
    },
    {
     "data": {
      "image/png": "[encoded data removed]",
      "text/plain": [
       "<Figure size 640x480 with 1 Axes>"
      ]
     },
     "metadata": {},
     "output_type": "display_data"
    }
   ],
   "source": [
    "happiness = ({\"pizza_happiness\": pizza_happiness, \"sourdough_happiness\": sourdough_happiness})\n",
    "sns.barplot(happiness, legend= \"full\", color= \"skyblue\")\n",
    "plt.ylabel(\"Sentiment Score\")\n",
    "plt.title(\"Subreddit Happiness\")"
   ]
  },
  {
   "cell_type": "code",
   "execution_count": 233,
   "id": "526625df-4bf9-400a-8928-6db5bfedd0d0",
   "metadata": {
    "tags": []
   },
   "outputs": [
    {
     "data": {
      "text/plain": [
       "Text(0.5, 1.0, 'Average User Happiness')"
      ]
     },
     "execution_count": 233,
     "metadata": {},
     "output_type": "execute_result"
    },
    {
     "data": {
      "image/png": "[encoded data removed]",
      "text/plain": [
       "<Figure size 640x480 with 1 Axes>"
      ]
     },
     "metadata": {},
     "output_type": "display_data"
    }
   ],
   "source": [
    "user_happiness = ({\"av_pizza_user\": av_pizza_user, \"av_sourdough_user\": av_sourdough_user})\n",
    "sns.barplot(user_happiness, legend= \"full\", color= \"hotpink\")\n",
    "plt.ylabel(\"Sentiment Score\")\n",
    "plt.title(\"Average User Happiness\")"
   ]
  },
  {
   "cell_type": "markdown",
   "id": "75271ee4-a0e0-4a2c-9eb2-46e1230aa6cf",
   "metadata": {},
   "source": [
    "Whilst I did expect all users of pizza and sourdough to be happy, I thought that the pizza subreddit and users would be happier, because everyone loves pizza, but it seems the sourdough community takes the cake"
   ]
  },
  {
   "cell_type": "markdown",
   "id": "b1b17690-5971-4a1a-9062-5dc5fc3b7cd4",
   "metadata": {},
   "source": [
    "## Modelling"
   ]
  },
  {
   "cell_type": "markdown",
   "id": "6763dc47-45e1-4b5f-87ee-aef3fa95c2ae",
   "metadata": {},
   "source": [
    "reddit_df.subreddit.value_counts()"
   ]
  },
  {
   "cell_type": "code",
   "execution_count": 103,
   "id": "204795d9-55a7-4d46-8d6c-4179ff87675b",
   "metadata": {
    "tags": []
   },
   "outputs": [],
   "source": [
    "reddit_df.subreddit.replace({\"Pizza\": 1, \"Sourdough\": 0}, inplace= True)"
   ]
  },
  {
   "cell_type": "code",
   "execution_count": 105,
   "id": "a6f68856-0329-44d6-b584-5026edfb9786",
   "metadata": {
    "tags": []
   },
   "outputs": [
    {
     "data": {
      "text/plain": [
       "subreddit\n",
       "1    1900\n",
       "0    1900\n",
       "Name: count, dtype: int64"
      ]
     },
     "execution_count": 105,
     "metadata": {},
     "output_type": "execute_result"
    }
   ],
   "source": [
    "reddit_df.subreddit.value_counts()"
   ]
  },
  {
   "cell_type": "markdown",
   "id": "90ee2dda-1a9b-423e-a3f7-076477e16663",
   "metadata": {},
   "source": [
    "So we have cast Pizza as 1 and Sourdough as 0 for classifying"
   ]
  },
  {
   "cell_type": "code",
   "execution_count": 269,
   "id": "26140328-09a6-400f-a0c0-c1d006986d3c",
   "metadata": {
    "tags": []
   },
   "outputs": [],
   "source": [
    "reddit_df = reddit_df.reset_index(drop= True)"
   ]
  },
  {
   "cell_type": "code",
   "execution_count": 277,
   "id": "4cc7e3e9-3842-4fe8-9c64-20ad7f753ba5",
   "metadata": {
    "tags": []
   },
   "outputs": [],
   "source": [
    "reddit_df.drop(columns= \"index\", inplace= True)"
   ]
  },
  {
   "cell_type": "code",
   "execution_count": 279,
   "id": "4b12445c-6892-48cc-b983-2f0a675d708b",
   "metadata": {
    "tags": []
   },
   "outputs": [
    {
     "data": {
      "text/html": [
       "<div>\n",
       "<style scoped>\n",
       "    .dataframe tbody tr th:only-of-type {\n",
       "        vertical-align: middle;\n",
       "    }\n",
       "\n",
       "    .dataframe tbody tr th {\n",
       "        vertical-align: top;\n",
       "    }\n",
       "\n",
       "    .dataframe thead th {\n",
       "        text-align: right;\n",
       "    }\n",
       "</style>\n",
       "<table border=\"1\" class=\"dataframe\">\n",
       "  <thead>\n",
       "    <tr style=\"text-align: right;\">\n",
       "      <th></th>\n",
       "      <th>self_text</th>\n",
       "      <th>subreddit</th>\n",
       "    </tr>\n",
       "  </thead>\n",
       "  <tbody>\n",
       "    <tr>\n",
       "      <th>3795</th>\n",
       "      <td>hello all i have been making the king arthur n...</td>\n",
       "      <td>0</td>\n",
       "    </tr>\n",
       "    <tr>\n",
       "      <th>3796</th>\n",
       "      <td>Hi! I haven’t used my sourdough starter in abo...</td>\n",
       "      <td>0</td>\n",
       "    </tr>\n",
       "    <tr>\n",
       "      <th>3797</th>\n",
       "      <td>I hate wasting anything, so was looking for re...</td>\n",
       "      <td>0</td>\n",
       "    </tr>\n",
       "    <tr>\n",
       "      <th>3798</th>\n",
       "      <td>I have been making sourdough bread for three m...</td>\n",
       "      <td>0</td>\n",
       "    </tr>\n",
       "    <tr>\n",
       "      <th>3799</th>\n",
       "      <td>I've been trying all kinds of recipes on the h...</td>\n",
       "      <td>0</td>\n",
       "    </tr>\n",
       "  </tbody>\n",
       "</table>\n",
       "</div>"
      ],
      "text/plain": [
       "                                              self_text  subreddit\n",
       "3795  hello all i have been making the king arthur n...          0\n",
       "3796  Hi! I haven’t used my sourdough starter in abo...          0\n",
       "3797  I hate wasting anything, so was looking for re...          0\n",
       "3798  I have been making sourdough bread for three m...          0\n",
       "3799  I've been trying all kinds of recipes on the h...          0"
      ]
     },
     "execution_count": 279,
     "metadata": {},
     "output_type": "execute_result"
    }
   ],
   "source": [
    "reddit_df.tail()"
   ]
  },
  {
   "cell_type": "code",
   "execution_count": 281,
   "id": "bec9c6bf-d2fd-4fba-b5c8-1dc723c92780",
   "metadata": {
    "tags": []
   },
   "outputs": [],
   "source": [
    "X = reddit_df.self_text\n",
    "y = reddit_df.subreddit\n",
    "\n",
    "X_train, X_test, y_train, y_test = train_test_split(X, y, random_state= 343)"
   ]
  },
  {
   "cell_type": "markdown",
   "id": "37b6f08d-32b9-4d50-86f6-0d06f0c9f58a",
   "metadata": {},
   "source": [
    "Baseline accuracy is 50% as we got equal weighting of 0 to 1s, 0 meaning sourdough, 1 meaning pizza."
   ]
  },
  {
   "cell_type": "markdown",
   "id": "22025a9a-932c-4c97-b39d-d5d19cd786f5",
   "metadata": {},
   "source": [
    "We opt for TfidfVectorizer here over CountVectorizer as we aren't just tokenizing the words, but seeing their relevance within each document/post, which will then translate onto the target variable not directly, but as we train it with the target feature."
   ]
  },
  {
   "cell_type": "markdown",
   "id": "4248875f-97eb-4a31-bb14-7646429f3307",
   "metadata": {},
   "source": [
    "### First model - MultinomialNB\n",
    "- We use MultinomialNaiveBayes as it is known to work well with nlp."
   ]
  },
  {
   "cell_type": "markdown",
   "id": "d265b87b-6f77-4af0-abbc-e1f9dbdb95a2",
   "metadata": {},
   "source": [
    "For ease and to finetune paramets, we'll use gridsearch and pipeline."
   ]
  },
  {
   "cell_type": "code",
   "execution_count": 289,
   "id": "3ee8c2cd-da78-4c00-8a88-866c08e18b62",
   "metadata": {
    "tags": []
   },
   "outputs": [],
   "source": [
    "pipe = Pipeline([\n",
    "    (\"tvec\", TfidfVectorizer()),\n",
    "    (\"nb\", MultinomialNB())\n",
    "])"
   ]
  },
  {
   "cell_type": "code",
   "execution_count": 293,
   "id": "24e66e8d-e5f1-49f3-bf50-4b1d144d1ca4",
   "metadata": {
    "tags": []
   },
   "outputs": [
    {
     "data": {
      "text/plain": [
       "{'memory': None,\n",
       " 'steps': [('tvec', TfidfVectorizer()), ('nb', MultinomialNB())],\n",
       " 'verbose': False,\n",
       " 'tvec': TfidfVectorizer(),\n",
       " 'nb': MultinomialNB(),\n",
       " 'tvec__analyzer': 'word',\n",
       " 'tvec__binary': False,\n",
       " 'tvec__decode_error': 'strict',\n",
       " 'tvec__dtype': numpy.float64,\n",
       " 'tvec__encoding': 'utf-8',\n",
       " 'tvec__input': 'content',\n",
       " 'tvec__lowercase': True,\n",
       " 'tvec__max_df': 1.0,\n",
       " 'tvec__max_features': None,\n",
       " 'tvec__min_df': 1,\n",
       " 'tvec__ngram_range': (1, 1),\n",
       " 'tvec__norm': 'l2',\n",
       " 'tvec__preprocessor': None,\n",
       " 'tvec__smooth_idf': True,\n",
       " 'tvec__stop_words': None,\n",
       " 'tvec__strip_accents': None,\n",
       " 'tvec__sublinear_tf': False,\n",
       " 'tvec__token_pattern': '(?u)\\\\b\\\\w\\\\w+\\\\b',\n",
       " 'tvec__tokenizer': None,\n",
       " 'tvec__use_idf': True,\n",
       " 'tvec__vocabulary': None,\n",
       " 'nb__alpha': 1.0,\n",
       " 'nb__class_prior': None,\n",
       " 'nb__fit_prior': True,\n",
       " 'nb__force_alpha': 'warn'}"
      ]
     },
     "execution_count": 293,
     "metadata": {},
     "output_type": "execute_result"
    }
   ],
   "source": [
    "pipe.get_params()"
   ]
  },
  {
   "cell_type": "code",
   "execution_count": 303,
   "id": "273dea5d-2d8f-46d7-ba0e-9137e8d091d6",
   "metadata": {
    "tags": []
   },
   "outputs": [],
   "source": [
    "pgrid = {\n",
    "    \"tvec__stop_words\": [\"english\", None],\n",
    "    \"tvec__ngram_range\": [(1, 1), (1, 2), (1, 3), (2, 2), (2, 3), (3, 3)],\n",
    "    \"tvec__norm\": [\"l2\", None]\n",
    "}"
   ]
  },
  {
   "cell_type": "markdown",
   "id": "1cd92270-9e2e-42b7-9780-0e51a0f2b865",
   "metadata": {},
   "source": [
    "Whilst we could do more stripping/preprocessing, as I stated earlier, the fact this is a social forum means that minor details are what we are after, the nuances in informal language. What we've done is just adjust parameters, including the defaults, to cover multiple points of attack. Using gridsearch makes this whole process much simpler to refine afterwards to get the best results."
   ]
  },
  {
   "cell_type": "code",
   "execution_count": 306,
   "id": "55cfead3-94b9-4a43-aba2-7ea5e03faaf0",
   "metadata": {
    "tags": []
   },
   "outputs": [],
   "source": [
    "gs = GridSearchCV(pipe, pgrid, cv= 5, n_jobs= 7)"
   ]
  },
  {
   "cell_type": "code",
   "execution_count": 308,
   "id": "afbda69a-2618-427c-a79b-b4e97617d165",
   "metadata": {
    "tags": []
   },
   "outputs": [
    {
     "name": "stdout",
     "output_type": "stream",
     "text": [
      "CPU times: total: 516 ms\n",
      "Wall time: 7.99 s\n"
     ]
    },
    {
     "data": {
      "text/html": [
       "<style>#sk-container-id-2 {color: black;background-color: white;}#sk-container-id-2 pre{padding: 0;}#sk-container-id-2 div.sk-toggleable {background-color: white;}#sk-container-id-2 label.sk-toggleable__label {cursor: pointer;display: block;width: 100%;margin-bottom: 0;padding: 0.3em;box-sizing: border-box;text-align: center;}#sk-container-id-2 label.sk-toggleable__label-arrow:before {content: \"▸\";float: left;margin-right: 0.25em;color: #696969;}#sk-container-id-2 label.sk-toggleable__label-arrow:hover:before {color: black;}#sk-container-id-2 div.sk-estimator:hover label.sk-toggleable__label-arrow:before {color: black;}#sk-container-id-2 div.sk-toggleable__content {max-height: 0;max-width: 0;overflow: hidden;text-align: left;background-color: #f0f8ff;}#sk-container-id-2 div.sk-toggleable__content pre {margin: 0.2em;color: black;border-radius: 0.25em;background-color: #f0f8ff;}#sk-container-id-2 input.sk-toggleable__control:checked~div.sk-toggleable__content {max-height: 200px;max-width: 100%;overflow: auto;}#sk-container-id-2 input.sk-toggleable__control:checked~label.sk-toggleable__label-arrow:before {content: \"▾\";}#sk-container-id-2 div.sk-estimator input.sk-toggleable__control:checked~label.sk-toggleable__label {background-color: #d4ebff;}#sk-container-id-2 div.sk-label input.sk-toggleable__control:checked~label.sk-toggleable__label {background-color: #d4ebff;}#sk-container-id-2 input.sk-hidden--visually {border: 0;clip: rect(1px 1px 1px 1px);clip: rect(1px, 1px, 1px, 1px);height: 1px;margin: -1px;overflow: hidden;padding: 0;position: absolute;width: 1px;}#sk-container-id-2 div.sk-estimator {font-family: monospace;background-color: #f0f8ff;border: 1px dotted black;border-radius: 0.25em;box-sizing: border-box;margin-bottom: 0.5em;}#sk-container-id-2 div.sk-estimator:hover {background-color: #d4ebff;}#sk-container-id-2 div.sk-parallel-item::after {content: \"\";width: 100%;border-bottom: 1px solid gray;flex-grow: 1;}#sk-container-id-2 div.sk-label:hover label.sk-toggleable__label {background-color: #d4ebff;}#sk-container-id-2 div.sk-serial::before {content: \"\";position: absolute;border-left: 1px solid gray;box-sizing: border-box;top: 0;bottom: 0;left: 50%;z-index: 0;}#sk-container-id-2 div.sk-serial {display: flex;flex-direction: column;align-items: center;background-color: white;padding-right: 0.2em;padding-left: 0.2em;position: relative;}#sk-container-id-2 div.sk-item {position: relative;z-index: 1;}#sk-container-id-2 div.sk-parallel {display: flex;align-items: stretch;justify-content: center;background-color: white;position: relative;}#sk-container-id-2 div.sk-item::before, #sk-container-id-2 div.sk-parallel-item::before {content: \"\";position: absolute;border-left: 1px solid gray;box-sizing: border-box;top: 0;bottom: 0;left: 50%;z-index: -1;}#sk-container-id-2 div.sk-parallel-item {display: flex;flex-direction: column;z-index: 1;position: relative;background-color: white;}#sk-container-id-2 div.sk-parallel-item:first-child::after {align-self: flex-end;width: 50%;}#sk-container-id-2 div.sk-parallel-item:last-child::after {align-self: flex-start;width: 50%;}#sk-container-id-2 div.sk-parallel-item:only-child::after {width: 0;}#sk-container-id-2 div.sk-dashed-wrapped {border: 1px dashed gray;margin: 0 0.4em 0.5em 0.4em;box-sizing: border-box;padding-bottom: 0.4em;background-color: white;}#sk-container-id-2 div.sk-label label {font-family: monospace;font-weight: bold;display: inline-block;line-height: 1.2em;}#sk-container-id-2 div.sk-label-container {text-align: center;}#sk-container-id-2 div.sk-container {/* jupyter's `normalize.less` sets `[hidden] { display: none; }` but bootstrap.min.css set `[hidden] { display: none !important; }` so we also need the `!important` here to be able to override the default hidden behavior on the sphinx rendered scikit-learn.org. See: https://github.com/scikit-learn/scikit-learn/issues/21755 */display: inline-block !important;position: relative;}#sk-container-id-2 div.sk-text-repr-fallback {display: none;}</style><div id=\"sk-container-id-2\" class=\"sk-top-container\"><div class=\"sk-text-repr-fallback\"><pre>GridSearchCV(cv=5,\n",
       "             estimator=Pipeline(steps=[(&#x27;tvec&#x27;, TfidfVectorizer()),\n",
       "                                       (&#x27;nb&#x27;, MultinomialNB())]),\n",
       "             n_jobs=7,\n",
       "             param_grid={&#x27;tvec__ngram_range&#x27;: [(1, 1), (1, 2), (1, 3), (2, 2),\n",
       "                                               (2, 3), (3, 3)],\n",
       "                         &#x27;tvec__norm&#x27;: [&#x27;l2&#x27;, None],\n",
       "                         &#x27;tvec__stop_words&#x27;: [&#x27;english&#x27;, None]})</pre><b>In a Jupyter environment, please rerun this cell to show the HTML representation or trust the notebook. <br />On GitHub, the HTML representation is unable to render, please try loading this page with nbviewer.org.</b></div><div class=\"sk-container\" hidden><div class=\"sk-item sk-dashed-wrapped\"><div class=\"sk-label-container\"><div class=\"sk-label sk-toggleable\"><input class=\"sk-toggleable__control sk-hidden--visually\" id=\"sk-estimator-id-5\" type=\"checkbox\" ><label for=\"sk-estimator-id-5\" class=\"sk-toggleable__label sk-toggleable__label-arrow\">GridSearchCV</label><div class=\"sk-toggleable__content\"><pre>GridSearchCV(cv=5,\n",
       "             estimator=Pipeline(steps=[(&#x27;tvec&#x27;, TfidfVectorizer()),\n",
       "                                       (&#x27;nb&#x27;, MultinomialNB())]),\n",
       "             n_jobs=7,\n",
       "             param_grid={&#x27;tvec__ngram_range&#x27;: [(1, 1), (1, 2), (1, 3), (2, 2),\n",
       "                                               (2, 3), (3, 3)],\n",
       "                         &#x27;tvec__norm&#x27;: [&#x27;l2&#x27;, None],\n",
       "                         &#x27;tvec__stop_words&#x27;: [&#x27;english&#x27;, None]})</pre></div></div></div><div class=\"sk-parallel\"><div class=\"sk-parallel-item\"><div class=\"sk-item\"><div class=\"sk-label-container\"><div class=\"sk-label sk-toggleable\"><input class=\"sk-toggleable__control sk-hidden--visually\" id=\"sk-estimator-id-6\" type=\"checkbox\" ><label for=\"sk-estimator-id-6\" class=\"sk-toggleable__label sk-toggleable__label-arrow\">estimator: Pipeline</label><div class=\"sk-toggleable__content\"><pre>Pipeline(steps=[(&#x27;tvec&#x27;, TfidfVectorizer()), (&#x27;nb&#x27;, MultinomialNB())])</pre></div></div></div><div class=\"sk-serial\"><div class=\"sk-item\"><div class=\"sk-serial\"><div class=\"sk-item\"><div class=\"sk-estimator sk-toggleable\"><input class=\"sk-toggleable__control sk-hidden--visually\" id=\"sk-estimator-id-7\" type=\"checkbox\" ><label for=\"sk-estimator-id-7\" class=\"sk-toggleable__label sk-toggleable__label-arrow\">TfidfVectorizer</label><div class=\"sk-toggleable__content\"><pre>TfidfVectorizer()</pre></div></div></div><div class=\"sk-item\"><div class=\"sk-estimator sk-toggleable\"><input class=\"sk-toggleable__control sk-hidden--visually\" id=\"sk-estimator-id-8\" type=\"checkbox\" ><label for=\"sk-estimator-id-8\" class=\"sk-toggleable__label sk-toggleable__label-arrow\">MultinomialNB</label><div class=\"sk-toggleable__content\"><pre>MultinomialNB()</pre></div></div></div></div></div></div></div></div></div></div></div></div>"
      ],
      "text/plain": [
       "GridSearchCV(cv=5,\n",
       "             estimator=Pipeline(steps=[('tvec', TfidfVectorizer()),\n",
       "                                       ('nb', MultinomialNB())]),\n",
       "             n_jobs=7,\n",
       "             param_grid={'tvec__ngram_range': [(1, 1), (1, 2), (1, 3), (2, 2),\n",
       "                                               (2, 3), (3, 3)],\n",
       "                         'tvec__norm': ['l2', None],\n",
       "                         'tvec__stop_words': ['english', None]})"
      ]
     },
     "execution_count": 308,
     "metadata": {},
     "output_type": "execute_result"
    }
   ],
   "source": [
    "%%time\n",
    "gs.fit(X_train, y_train)"
   ]
  },
  {
   "cell_type": "markdown",
   "id": "83b078f8-5d41-4ba7-9b74-052efa17885d",
   "metadata": {},
   "source": [
    "We initially did introduce a min_df, but this made our model run into some errors, such as \"ValueError: After pruning, no terms remain. Try a lower min_df or a higher max_df.\" Meaning that it was set to high at times, so we just set no limit"
   ]
  },
  {
   "cell_type": "code",
   "execution_count": 311,
   "id": "1aaa4c87-a3e6-44dd-9114-2d51e7975bbf",
   "metadata": {
    "tags": []
   },
   "outputs": [
    {
     "data": {
      "text/plain": [
       "0.9582456140350877"
      ]
     },
     "execution_count": 311,
     "metadata": {},
     "output_type": "execute_result"
    }
   ],
   "source": [
    "gs.score(X_train, y_train)"
   ]
  },
  {
   "cell_type": "code",
   "execution_count": 313,
   "id": "52710162-c178-411a-b6a1-4b9dfb622573",
   "metadata": {
    "tags": []
   },
   "outputs": [
    {
     "data": {
      "text/plain": [
       "0.9063157894736842"
      ]
     },
     "execution_count": 313,
     "metadata": {},
     "output_type": "execute_result"
    }
   ],
   "source": [
    "gs.score(X_test, y_test)"
   ]
  },
  {
   "cell_type": "code",
   "execution_count": 319,
   "id": "41a93a72-5ef5-402a-80b0-18d5529975bd",
   "metadata": {
    "tags": []
   },
   "outputs": [
    {
     "data": {
      "text/plain": [
       "{'tvec__ngram_range': (1, 1),\n",
       " 'tvec__norm': 'l2',\n",
       " 'tvec__stop_words': 'english'}"
      ]
     },
     "execution_count": 319,
     "metadata": {},
     "output_type": "execute_result"
    }
   ],
   "source": [
    "gs.best_params_"
   ]
  },
  {
   "cell_type": "code",
   "execution_count": 327,
   "id": "2393b563-c993-4589-a622-14a6796d155d",
   "metadata": {
    "tags": []
   },
   "outputs": [
    {
     "data": {
      "text/plain": [
       "array([[452,  27],\n",
       "       [ 62, 409]], dtype=int64)"
      ]
     },
     "execution_count": 327,
     "metadata": {},
     "output_type": "execute_result"
    }
   ],
   "source": [
    "y_pred = gs.predict(X_test)\n",
    "cm = metrics.confusion_matrix(y_test, y_pred)\n",
    "cm"
   ]
  },
  {
   "cell_type": "code",
   "execution_count": 329,
   "id": "aff14cee-e2b0-45a0-8d74-67992e04f029",
   "metadata": {
    "tags": []
   },
   "outputs": [
    {
     "data": {
      "text/plain": [
       "<sklearn.metrics._plot.confusion_matrix.ConfusionMatrixDisplay at 0x25c4bb7b390>"
      ]
     },
     "execution_count": 329,
     "metadata": {},
     "output_type": "execute_result"
    },
    {
     "data": {
      "image/png": "[encoded data removed]",
      "text/plain": [
       "<Figure size 640x480 with 2 Axes>"
      ]
     },
     "metadata": {},
     "output_type": "display_data"
    }
   ],
   "source": [
    "metrics.ConfusionMatrixDisplay(cm).plot(cmap= \"Blues\")"
   ]
  },
  {
   "cell_type": "code",
   "execution_count": 331,
   "id": "fb349a04-ece6-41f7-907a-df0e355621fa",
   "metadata": {
    "tags": []
   },
   "outputs": [
    {
     "data": {
      "text/plain": [
       "0.9063157894736842"
      ]
     },
     "execution_count": 331,
     "metadata": {},
     "output_type": "execute_result"
    }
   ],
   "source": [
    "Accuracy = (409 + 452)/ (452 + 27 + 62 + 409)\n",
    "Accuracy"
   ]
  },
  {
   "cell_type": "code",
   "execution_count": 335,
   "id": "7dc009f6-ef06-42f8-b4c8-e147545f96d4",
   "metadata": {
    "tags": []
   },
   "outputs": [
    {
     "data": {
      "text/plain": [
       "0.8683651804670913"
      ]
     },
     "execution_count": 335,
     "metadata": {},
     "output_type": "execute_result"
    }
   ],
   "source": [
    "Precision = (409) / (62 + 409)\n",
    "Precision # And Recall"
   ]
  },
  {
   "cell_type": "code",
   "execution_count": 339,
   "id": "f9918684-014a-4aa7-997a-fff5d3716d5c",
   "metadata": {
    "tags": []
   },
   "outputs": [
    {
     "data": {
      "text/plain": [
       "0.9436325678496869"
      ]
     },
     "execution_count": 339,
     "metadata": {},
     "output_type": "execute_result"
    }
   ],
   "source": [
    "Specificity = (452) / (452 + 27)\n",
    "Specificity"
   ]
  },
  {
   "cell_type": "markdown",
   "id": "7971bad9-bae2-4c24-a259-99034beea157",
   "metadata": {},
   "source": [
    "### Model 2 - Logistic Regression"
   ]
  },
  {
   "cell_type": "code",
   "execution_count": 362,
   "id": "bb6ba9dd-e541-48f2-a330-d42b822e1bf9",
   "metadata": {
    "tags": []
   },
   "outputs": [],
   "source": [
    "pipel = Pipeline([\n",
    "    (\"tvec\", TfidfVectorizer()),\n",
    "    (\"lr\", LogisticRegression())\n",
    "])"
   ]
  },
  {
   "cell_type": "code",
   "execution_count": 364,
   "id": "e82a20d8-9704-4e97-8491-da8920255623",
   "metadata": {
    "tags": []
   },
   "outputs": [
    {
     "data": {
      "text/plain": [
       "{'memory': None,\n",
       " 'steps': [('tvec', TfidfVectorizer()), ('lr', LogisticRegression())],\n",
       " 'verbose': False,\n",
       " 'tvec': TfidfVectorizer(),\n",
       " 'lr': LogisticRegression(),\n",
       " 'tvec__analyzer': 'word',\n",
       " 'tvec__binary': False,\n",
       " 'tvec__decode_error': 'strict',\n",
       " 'tvec__dtype': numpy.float64,\n",
       " 'tvec__encoding': 'utf-8',\n",
       " 'tvec__input': 'content',\n",
       " 'tvec__lowercase': True,\n",
       " 'tvec__max_df': 1.0,\n",
       " 'tvec__max_features': None,\n",
       " 'tvec__min_df': 1,\n",
       " 'tvec__ngram_range': (1, 1),\n",
       " 'tvec__norm': 'l2',\n",
       " 'tvec__preprocessor': None,\n",
       " 'tvec__smooth_idf': True,\n",
       " 'tvec__stop_words': None,\n",
       " 'tvec__strip_accents': None,\n",
       " 'tvec__sublinear_tf': False,\n",
       " 'tvec__token_pattern': '(?u)\\\\b\\\\w\\\\w+\\\\b',\n",
       " 'tvec__tokenizer': None,\n",
       " 'tvec__use_idf': True,\n",
       " 'tvec__vocabulary': None,\n",
       " 'lr__C': 1.0,\n",
       " 'lr__class_weight': None,\n",
       " 'lr__dual': False,\n",
       " 'lr__fit_intercept': True,\n",
       " 'lr__intercept_scaling': 1,\n",
       " 'lr__l1_ratio': None,\n",
       " 'lr__max_iter': 100,\n",
       " 'lr__multi_class': 'auto',\n",
       " 'lr__n_jobs': None,\n",
       " 'lr__penalty': 'l2',\n",
       " 'lr__random_state': None,\n",
       " 'lr__solver': 'lbfgs',\n",
       " 'lr__tol': 0.0001,\n",
       " 'lr__verbose': 0,\n",
       " 'lr__warm_start': False}"
      ]
     },
     "execution_count": 364,
     "metadata": {},
     "output_type": "execute_result"
    }
   ],
   "source": [
    "pipel.get_params()"
   ]
  },
  {
   "cell_type": "code",
   "execution_count": 365,
   "id": "89119cd9-e7b8-4c03-bf21-9778d17e1fa7",
   "metadata": {
    "tags": []
   },
   "outputs": [],
   "source": [
    "pgridl = {\n",
    "    \"tvec__stop_words\": [\"english\", None],\n",
    "    \"tvec__ngram_range\": [(1, 1), (1, 2), (1, 3), (2, 2), (2, 3), (3, 3)],\n",
    "    \"tvec__norm\": [\"l2\", None]\n",
    "}"
   ]
  },
  {
   "cell_type": "code",
   "execution_count": 367,
   "id": "4f2395da-599c-4e02-b535-8e47bf8c3604",
   "metadata": {
    "tags": []
   },
   "outputs": [],
   "source": [
    "gsl = GridSearchCV(pipel, pgridl, cv= 5, n_jobs= 7)"
   ]
  },
  {
   "cell_type": "code",
   "execution_count": 369,
   "id": "2f8762d5-b815-4858-a210-d19dbc827653",
   "metadata": {
    "tags": []
   },
   "outputs": [
    {
     "name": "stdout",
     "output_type": "stream",
     "text": [
      "CPU times: total: 812 ms\n",
      "Wall time: 19.9 s\n"
     ]
    },
    {
     "data": {
      "text/html": [
       "<style>#sk-container-id-5 {color: black;background-color: white;}#sk-container-id-5 pre{padding: 0;}#sk-container-id-5 div.sk-toggleable {background-color: white;}#sk-container-id-5 label.sk-toggleable__label {cursor: pointer;display: block;width: 100%;margin-bottom: 0;padding: 0.3em;box-sizing: border-box;text-align: center;}#sk-container-id-5 label.sk-toggleable__label-arrow:before {content: \"▸\";float: left;margin-right: 0.25em;color: #696969;}#sk-container-id-5 label.sk-toggleable__label-arrow:hover:before {color: black;}#sk-container-id-5 div.sk-estimator:hover label.sk-toggleable__label-arrow:before {color: black;}#sk-container-id-5 div.sk-toggleable__content {max-height: 0;max-width: 0;overflow: hidden;text-align: left;background-color: #f0f8ff;}#sk-container-id-5 div.sk-toggleable__content pre {margin: 0.2em;color: black;border-radius: 0.25em;background-color: #f0f8ff;}#sk-container-id-5 input.sk-toggleable__control:checked~div.sk-toggleable__content {max-height: 200px;max-width: 100%;overflow: auto;}#sk-container-id-5 input.sk-toggleable__control:checked~label.sk-toggleable__label-arrow:before {content: \"▾\";}#sk-container-id-5 div.sk-estimator input.sk-toggleable__control:checked~label.sk-toggleable__label {background-color: #d4ebff;}#sk-container-id-5 div.sk-label input.sk-toggleable__control:checked~label.sk-toggleable__label {background-color: #d4ebff;}#sk-container-id-5 input.sk-hidden--visually {border: 0;clip: rect(1px 1px 1px 1px);clip: rect(1px, 1px, 1px, 1px);height: 1px;margin: -1px;overflow: hidden;padding: 0;position: absolute;width: 1px;}#sk-container-id-5 div.sk-estimator {font-family: monospace;background-color: #f0f8ff;border: 1px dotted black;border-radius: 0.25em;box-sizing: border-box;margin-bottom: 0.5em;}#sk-container-id-5 div.sk-estimator:hover {background-color: #d4ebff;}#sk-container-id-5 div.sk-parallel-item::after {content: \"\";width: 100%;border-bottom: 1px solid gray;flex-grow: 1;}#sk-container-id-5 div.sk-label:hover label.sk-toggleable__label {background-color: #d4ebff;}#sk-container-id-5 div.sk-serial::before {content: \"\";position: absolute;border-left: 1px solid gray;box-sizing: border-box;top: 0;bottom: 0;left: 50%;z-index: 0;}#sk-container-id-5 div.sk-serial {display: flex;flex-direction: column;align-items: center;background-color: white;padding-right: 0.2em;padding-left: 0.2em;position: relative;}#sk-container-id-5 div.sk-item {position: relative;z-index: 1;}#sk-container-id-5 div.sk-parallel {display: flex;align-items: stretch;justify-content: center;background-color: white;position: relative;}#sk-container-id-5 div.sk-item::before, #sk-container-id-5 div.sk-parallel-item::before {content: \"\";position: absolute;border-left: 1px solid gray;box-sizing: border-box;top: 0;bottom: 0;left: 50%;z-index: -1;}#sk-container-id-5 div.sk-parallel-item {display: flex;flex-direction: column;z-index: 1;position: relative;background-color: white;}#sk-container-id-5 div.sk-parallel-item:first-child::after {align-self: flex-end;width: 50%;}#sk-container-id-5 div.sk-parallel-item:last-child::after {align-self: flex-start;width: 50%;}#sk-container-id-5 div.sk-parallel-item:only-child::after {width: 0;}#sk-container-id-5 div.sk-dashed-wrapped {border: 1px dashed gray;margin: 0 0.4em 0.5em 0.4em;box-sizing: border-box;padding-bottom: 0.4em;background-color: white;}#sk-container-id-5 div.sk-label label {font-family: monospace;font-weight: bold;display: inline-block;line-height: 1.2em;}#sk-container-id-5 div.sk-label-container {text-align: center;}#sk-container-id-5 div.sk-container {/* jupyter's `normalize.less` sets `[hidden] { display: none; }` but bootstrap.min.css set `[hidden] { display: none !important; }` so we also need the `!important` here to be able to override the default hidden behavior on the sphinx rendered scikit-learn.org. See: https://github.com/scikit-learn/scikit-learn/issues/21755 */display: inline-block !important;position: relative;}#sk-container-id-5 div.sk-text-repr-fallback {display: none;}</style><div id=\"sk-container-id-5\" class=\"sk-top-container\"><div class=\"sk-text-repr-fallback\"><pre>GridSearchCV(cv=5,\n",
       "             estimator=Pipeline(steps=[(&#x27;tvec&#x27;, TfidfVectorizer()),\n",
       "                                       (&#x27;lr&#x27;, LogisticRegression())]),\n",
       "             n_jobs=7,\n",
       "             param_grid={&#x27;tvec__ngram_range&#x27;: [(1, 1), (1, 2), (1, 3), (2, 2),\n",
       "                                               (2, 3), (3, 3)],\n",
       "                         &#x27;tvec__norm&#x27;: [&#x27;l2&#x27;, None],\n",
       "                         &#x27;tvec__stop_words&#x27;: [&#x27;english&#x27;, None]})</pre><b>In a Jupyter environment, please rerun this cell to show the HTML representation or trust the notebook. <br />On GitHub, the HTML representation is unable to render, please try loading this page with nbviewer.org.</b></div><div class=\"sk-container\" hidden><div class=\"sk-item sk-dashed-wrapped\"><div class=\"sk-label-container\"><div class=\"sk-label sk-toggleable\"><input class=\"sk-toggleable__control sk-hidden--visually\" id=\"sk-estimator-id-16\" type=\"checkbox\" ><label for=\"sk-estimator-id-16\" class=\"sk-toggleable__label sk-toggleable__label-arrow\">GridSearchCV</label><div class=\"sk-toggleable__content\"><pre>GridSearchCV(cv=5,\n",
       "             estimator=Pipeline(steps=[(&#x27;tvec&#x27;, TfidfVectorizer()),\n",
       "                                       (&#x27;lr&#x27;, LogisticRegression())]),\n",
       "             n_jobs=7,\n",
       "             param_grid={&#x27;tvec__ngram_range&#x27;: [(1, 1), (1, 2), (1, 3), (2, 2),\n",
       "                                               (2, 3), (3, 3)],\n",
       "                         &#x27;tvec__norm&#x27;: [&#x27;l2&#x27;, None],\n",
       "                         &#x27;tvec__stop_words&#x27;: [&#x27;english&#x27;, None]})</pre></div></div></div><div class=\"sk-parallel\"><div class=\"sk-parallel-item\"><div class=\"sk-item\"><div class=\"sk-label-container\"><div class=\"sk-label sk-toggleable\"><input class=\"sk-toggleable__control sk-hidden--visually\" id=\"sk-estimator-id-17\" type=\"checkbox\" ><label for=\"sk-estimator-id-17\" class=\"sk-toggleable__label sk-toggleable__label-arrow\">estimator: Pipeline</label><div class=\"sk-toggleable__content\"><pre>Pipeline(steps=[(&#x27;tvec&#x27;, TfidfVectorizer()), (&#x27;lr&#x27;, LogisticRegression())])</pre></div></div></div><div class=\"sk-serial\"><div class=\"sk-item\"><div class=\"sk-serial\"><div class=\"sk-item\"><div class=\"sk-estimator sk-toggleable\"><input class=\"sk-toggleable__control sk-hidden--visually\" id=\"sk-estimator-id-18\" type=\"checkbox\" ><label for=\"sk-estimator-id-18\" class=\"sk-toggleable__label sk-toggleable__label-arrow\">TfidfVectorizer</label><div class=\"sk-toggleable__content\"><pre>TfidfVectorizer()</pre></div></div></div><div class=\"sk-item\"><div class=\"sk-estimator sk-toggleable\"><input class=\"sk-toggleable__control sk-hidden--visually\" id=\"sk-estimator-id-19\" type=\"checkbox\" ><label for=\"sk-estimator-id-19\" class=\"sk-toggleable__label sk-toggleable__label-arrow\">LogisticRegression</label><div class=\"sk-toggleable__content\"><pre>LogisticRegression()</pre></div></div></div></div></div></div></div></div></div></div></div></div>"
      ],
      "text/plain": [
       "GridSearchCV(cv=5,\n",
       "             estimator=Pipeline(steps=[('tvec', TfidfVectorizer()),\n",
       "                                       ('lr', LogisticRegression())]),\n",
       "             n_jobs=7,\n",
       "             param_grid={'tvec__ngram_range': [(1, 1), (1, 2), (1, 3), (2, 2),\n",
       "                                               (2, 3), (3, 3)],\n",
       "                         'tvec__norm': ['l2', None],\n",
       "                         'tvec__stop_words': ['english', None]})"
      ]
     },
     "execution_count": 369,
     "metadata": {},
     "output_type": "execute_result"
    }
   ],
   "source": [
    "%%time\n",
    "gsl.fit(X_train, y_train)"
   ]
  },
  {
   "cell_type": "code",
   "execution_count": 370,
   "id": "a1c5d552-5231-4de2-98aa-1559ec43dff0",
   "metadata": {
    "tags": []
   },
   "outputs": [
    {
     "data": {
      "text/plain": [
       "0.9771929824561404"
      ]
     },
     "execution_count": 370,
     "metadata": {},
     "output_type": "execute_result"
    }
   ],
   "source": [
    "gsl.score(X_train, y_train)"
   ]
  },
  {
   "cell_type": "code",
   "execution_count": 372,
   "id": "f47adee1-c626-4993-8b5a-a9424cdfa52c",
   "metadata": {
    "tags": []
   },
   "outputs": [
    {
     "data": {
      "text/plain": [
       "0.9263157894736842"
      ]
     },
     "execution_count": 372,
     "metadata": {},
     "output_type": "execute_result"
    }
   ],
   "source": [
    "gsl.score(X_test, y_test)"
   ]
  },
  {
   "cell_type": "code",
   "execution_count": 373,
   "id": "33ed717c-bf01-48e3-919d-3f759afcee7d",
   "metadata": {
    "tags": []
   },
   "outputs": [
    {
     "data": {
      "text/plain": [
       "{'tvec__ngram_range': (1, 1),\n",
       " 'tvec__norm': 'l2',\n",
       " 'tvec__stop_words': 'english'}"
      ]
     },
     "execution_count": 373,
     "metadata": {},
     "output_type": "execute_result"
    }
   ],
   "source": [
    "gsl.best_params_"
   ]
  },
  {
   "cell_type": "code",
   "execution_count": 374,
   "id": "4b5d6717-fc35-4278-8729-edbb27963dd7",
   "metadata": {
    "tags": []
   },
   "outputs": [
    {
     "data": {
      "text/plain": [
       "array([[443,  36],\n",
       "       [ 34, 437]], dtype=int64)"
      ]
     },
     "execution_count": 374,
     "metadata": {},
     "output_type": "execute_result"
    }
   ],
   "source": [
    "y_hat = gsl.predict(X_test)\n",
    "cml = metrics.confusion_matrix(y_test, y_hat)\n",
    "cml"
   ]
  },
  {
   "cell_type": "code",
   "execution_count": 380,
   "id": "42fe6e43-4ded-44dd-b00b-5431194eb994",
   "metadata": {
    "tags": []
   },
   "outputs": [
    {
     "data": {
      "text/plain": [
       "<sklearn.metrics._plot.confusion_matrix.ConfusionMatrixDisplay at 0x25c4bd0f2d0>"
      ]
     },
     "execution_count": 380,
     "metadata": {},
     "output_type": "execute_result"
    },
    {
     "data": {
      "image/png": "[encoded data removed]",
      "text/plain": [
       "<Figure size 640x480 with 2 Axes>"
      ]
     },
     "metadata": {},
     "output_type": "display_data"
    }
   ],
   "source": [
    "metrics.ConfusionMatrixDisplay(cml).plot(cmap= \"Blues\")"
   ]
  },
  {
   "cell_type": "code",
   "execution_count": 382,
   "id": "314a500f-1307-4e8c-8755-8c9b77078aa2",
   "metadata": {
    "tags": []
   },
   "outputs": [
    {
     "data": {
      "text/plain": [
       "0.9263157894736842"
      ]
     },
     "execution_count": 382,
     "metadata": {},
     "output_type": "execute_result"
    }
   ],
   "source": [
    "Accuracyl = (443 + 437) / (443 + 36 + 34 + 437)\n",
    "Accuracyl"
   ]
  },
  {
   "cell_type": "code",
   "execution_count": 384,
   "id": "397ec354-11f1-4386-9470-094a99919c29",
   "metadata": {
    "tags": []
   },
   "outputs": [
    {
     "data": {
      "text/plain": [
       "0.9278131634819533"
      ]
     },
     "execution_count": 384,
     "metadata": {},
     "output_type": "execute_result"
    }
   ],
   "source": [
    "Precisionl = (437) / ( 437 + 34)\n",
    "Precisionl # and Recall"
   ]
  },
  {
   "cell_type": "code",
   "execution_count": 386,
   "id": "171e005e-5184-4838-b445-1b8124238b60",
   "metadata": {
    "tags": []
   },
   "outputs": [
    {
     "data": {
      "text/plain": [
       "0.9248434237995825"
      ]
     },
     "execution_count": 386,
     "metadata": {},
     "output_type": "execute_result"
    }
   ],
   "source": [
    "Specificityl = (443) / (443 + 36)\n",
    "Specificityl"
   ]
  },
  {
   "cell_type": "code",
   "execution_count": 401,
   "id": "4ee8c6d8-abaf-45ac-8cbc-52b930cad9e1",
   "metadata": {
    "tags": []
   },
   "outputs": [
    {
     "data": {
      "text/plain": [
       "(0.020000000000000018, 0.05944798301486198, -0.018789144050104345)"
      ]
     },
     "execution_count": 401,
     "metadata": {},
     "output_type": "execute_result"
    }
   ],
   "source": [
    "Accuracyl - Accuracy, Precisionl - Precision, Specificityl - Specificity"
   ]
  },
  {
   "cell_type": "markdown",
   "id": "d73a4d3c-ad05-4051-a3d5-64824eecb0e8",
   "metadata": {},
   "source": [
    "Interestingly, the logistic regression performed better in all metrics, including model fitting and prediction, but the one time it didn't was the specificity of the MultinomialNB, which may show that the model is actually better at predicting sourdough posts, over pizza posts."
   ]
  },
  {
   "cell_type": "code",
   "execution_count": 453,
   "id": "3c440536-63b0-4d59-9271-dd5d218d1f89",
   "metadata": {
    "tags": []
   },
   "outputs": [
    {
     "data": {
      "text/plain": [
       "['This had an amazing crust, with open airy crumb and good rise in the oven',\n",
       " 'This had an amazing crust, with open airy crumb and good rise in the oven',\n",
       " 'This had an amazing crust, with open airy crumb and good rise in the oven',\n",
       " 'This had an amazing crust, with open airy crumb and good rise in the oven',\n",
       " 'This had an amazing crust, with open airy crumb and good rise in the oven',\n",
       " 'This had an amazing crust, with open airy crumb and good rise in the oven',\n",
       " 'This had an amazing crust, with open airy crumb and good rise in the oven',\n",
       " 'This had an amazing crust, with open airy crumb and good rise in the oven',\n",
       " 'This had an amazing crust, with open airy crumb and good rise in the oven',\n",
       " 'This had an amazing crust, with open airy crumb and good rise in the oven']"
      ]
     },
     "execution_count": 453,
     "metadata": {},
     "output_type": "execute_result"
    }
   ],
   "source": [
    "example = \"This had an amazing crust, with open airy crumb and good rise in the oven\"\n",
    "example = [example for x in range(10)]\n",
    "example"
   ]
  },
  {
   "cell_type": "code",
   "execution_count": 455,
   "id": "ddf93453-0de5-4c78-be94-a7cdfb62f8a3",
   "metadata": {
    "tags": []
   },
   "outputs": [
    {
     "data": {
      "text/plain": [
       "(0.0, 0.0)"
      ]
     },
     "execution_count": 455,
     "metadata": {},
     "output_type": "execute_result"
    }
   ],
   "source": [
    "gs.predict(example).mean(), gsl.predict(example).mean()"
   ]
  },
  {
   "cell_type": "markdown",
   "id": "412f5737-4c97-40e5-b4ee-abc139fbd3f8",
   "metadata": {},
   "source": [
    "example = \"This had an amazing crust, with open airy crumb and great flavour\"\n",
    "This was the initial example that I wrote with sourdough in mind, ambiguous, but still sourdough focused"
   ]
  },
  {
   "cell_type": "code",
   "execution_count": 458,
   "id": "0f08ed73-b54d-4d08-bb7e-1cd3664f8dbd",
   "metadata": {
    "tags": []
   },
   "outputs": [
    {
     "data": {
      "text/plain": [
       "(1.0, 1.0)"
      ]
     },
     "execution_count": 458,
     "metadata": {},
     "output_type": "execute_result"
    }
   ],
   "source": [
    "example = \"When making this dough, I added more water than normal to achieve a more airy crust, and baked in the oven at a hotter temperature, for less time\"\n",
    "example = [example for x in range(10)]\n",
    "gs.predict(example).mean(), gsl.predict(example).mean()"
   ]
  },
  {
   "cell_type": "markdown",
   "id": "9ce066b1-954c-4b10-b9c5-29d2e915ef96",
   "metadata": {},
   "source": [
    "This one was made with pizza in mind and it predicted well"
   ]
  },
  {
   "cell_type": "markdown",
   "id": "3b43f9db-d4eb-413a-b8e4-90b19aa6a4fc",
   "metadata": {
    "tags": []
   },
   "source": [
    "['flour',\n",
    " 'dough',\n",
    " 'recipe',\n",
    " 'oven',\n",
    " 'salt',\n",
    " 've',\n",
    " 'just',\n",
    " 'time',\n",
    " 'like',\n",
    " 'day',\n",
    " 'hour',\n",
    " 'make',\n",
    " 'think',\n",
    " 'good',\n",
    " 'used',\n",
    " 'really']\n",
    "\n",
    "These were the ambiguous terms that appeared in the top 50 of both subreddits, so we'll see how a sentence entirely made of them fares"
   ]
  },
  {
   "cell_type": "code",
   "execution_count": 466,
   "id": "2ef7d26e-3391-43de-91c4-dcde63164cd9",
   "metadata": {
    "tags": []
   },
   "outputs": [
    {
     "data": {
      "text/plain": [
       "(0.0, 0.0)"
      ]
     },
     "execution_count": 466,
     "metadata": {},
     "output_type": "execute_result"
    }
   ],
   "source": [
    "example = \"This recipe was really good, the right amount of flour, salt for the dough, makes me think that I should make more, anytime of day or hour.\"\n",
    "example = [example for x in range(10)]\n",
    "gs.predict(example).mean(), gsl.predict(example).mean()"
   ]
  },
  {
   "cell_type": "markdown",
   "id": "f767b2e6-6490-4e1f-acc4-8a3d8a3b247d",
   "metadata": {},
   "source": [
    "Interestingly, both models actually predicted sourdough, and this may be due to the fact that, shown in our earlier graph, that the frequency of words in sourdough is more spread out than in pizza, so the more generic and ambiguous the post, the more likely it is going to be classified as a 0:sourdough, which seems to align with our findings of specificity, albeit very tenuous regarding the difference in metrics."
   ]
  },
  {
   "cell_type": "markdown",
   "id": "0bd6d4e5-724a-4cb2-8906-0a6363df66fa",
   "metadata": {},
   "source": [
    "Or simply, that they are weighted in favour of sourdough, more appearing higher up on the sourdough top 50 than in the pizza top 50. But when considering the graph, it does seem the former explanation makes more sense, as pizza definitely trails off from around the 50th word frequency count. My guess would be that pizza works more off specific words than sourdough does."
   ]
  },
  {
   "cell_type": "code",
   "execution_count": null,
   "id": "ff30cc88-2cc6-4382-8664-b013469a459f",
   "metadata": {},
   "outputs": [],
   "source": [
    " "
   ]
  }
 ],
 "metadata": {
  "kernelspec": {
   "display_name": "Python 3 (ipykernel)",
   "language": "python",
   "name": "python3"
  },
  "language_info": {
   "codemirror_mode": {
    "name": "ipython",
    "version": 3
   },
   "file_extension": ".py",
   "mimetype": "text/x-python",
   "name": "python",
   "nbconvert_exporter": "python",
   "pygments_lexer": "ipython3",
   "version": "3.11.7"
  }
 },
 "nbformat": 4,
 "nbformat_minor": 5
}
